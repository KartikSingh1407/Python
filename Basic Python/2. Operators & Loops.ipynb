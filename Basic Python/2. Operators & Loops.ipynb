{
 "cells": [
  {
   "cell_type": "markdown",
   "id": "98798d0d-fb3b-4adc-a0dd-e055af4b2c6f",
   "metadata": {},
   "source": [
    " **OPERATORS**\n",
    "\n",
    "   - Arithmetic Operators\n",
    "   - Relational Operators\n",
    "   - Logical Operators\n",
    "   - Bitwise Operators\n",
    "   - Assignment Operators\n",
    "   - Membership Operators"
   ]
  },
  {
   "cell_type": "code",
   "execution_count": 1,
   "id": "96572aa6-0bbf-441e-b51a-3c6e12f6bd7e",
   "metadata": {},
   "outputs": [
    {
     "name": "stdout",
     "output_type": "stream",
     "text": [
      "11\n",
      "-1\n",
      "30\n",
      "0.8333333333333334\n",
      "5\n",
      "15625\n",
      "0\n"
     ]
    }
   ],
   "source": [
    "# Arithmetic Operator # Mathematical Operations\n",
    "print(5+6)\n",
    "print(5-6)\n",
    "print(5*6)\n",
    "print(5/6)\n",
    "print(5%6)\n",
    "print(5**6) # Power of operator\n",
    "\n",
    "print(5//6) # Integer-Division\n",
    "  # When you divide and the quotient is in decimal then it will convert it in integer"
   ]
  },
  {
   "cell_type": "code",
   "execution_count": 5,
   "id": "1be04906-04ed-45db-a3a0-cfd9765eba58",
   "metadata": {},
   "outputs": [
    {
     "name": "stdout",
     "output_type": "stream",
     "text": [
      "True\n",
      "False\n",
      "True\n",
      "False\n",
      "False\n",
      "True\n"
     ]
    }
   ],
   "source": [
    "# Relational Operator\n",
    "print(5<6)\n",
    "\n",
    "print(5>6)\n",
    "\n",
    "print(5<=6)\n",
    "\n",
    "print(5>=6)\n",
    "\n",
    "print(5==6)\n",
    "\n",
    "print(5!=6)"
   ]
  },
  {
   "cell_type": "code",
   "execution_count": 6,
   "id": "a3c61fb7-6dd6-4418-ab9a-c0ef86964f64",
   "metadata": {},
   "outputs": [
    {
     "name": "stdout",
     "output_type": "stream",
     "text": [
      "0\n",
      "1\n",
      "False\n"
     ]
    }
   ],
   "source": [
    "# Logical Operator\n",
    "# AND (anyone 0 all 0) / OR (any high all high) / NOT\n",
    "print(1 and 0)\n",
    "\n",
    "print(1 or 0)\n",
    "\n",
    "print(not 1)"
   ]
  },
  {
   "cell_type": "code",
   "execution_count": 8,
   "id": "1260f378-07f2-47ce-a4ad-b28c3c5ca8b7",
   "metadata": {},
   "outputs": [
    {
     "name": "stdout",
     "output_type": "stream",
     "text": [
      "2\n",
      "3\n",
      "1\n",
      "-4\n",
      "1\n",
      "20\n"
     ]
    }
   ],
   "source": [
    "# Bitwise Operator\n",
    "\n",
    "# bitwise and\n",
    "print(2 & 3)\n",
    "\n",
    "# bitwise or\n",
    "print(2 | 3)\n",
    "\n",
    "# bitwise xor\n",
    "print(2 ^ 3)\n",
    "\n",
    "# bitwise not\n",
    "print(~3)\n",
    "\n",
    "# bitwise right shift operator\n",
    "print(4 >> 2)\n",
    "\n",
    "# bitwise left shift operator\n",
    "print(5 << 2)\n"
   ]
  },
  {
   "cell_type": "code",
   "execution_count": 9,
   "id": "8cff7d41-d69e-4d4d-8b0d-48d2a687fc07",
   "metadata": {},
   "outputs": [
    {
     "name": "stdout",
     "output_type": "stream",
     "text": [
      "4\n"
     ]
    }
   ],
   "source": [
    "# Assignment Operators\n",
    "\n",
    "#     = \n",
    "a = 2\n",
    "a += 2   # execution will be faster(very little) \n",
    "print(a)"
   ]
  },
  {
   "cell_type": "code",
   "execution_count": 12,
   "id": "7058aa8c-2606-4718-bf56-e4b3f941e1e0",
   "metadata": {},
   "outputs": [
    {
     "name": "stdout",
     "output_type": "stream",
     "text": [
      "True\n",
      "False\n"
     ]
    }
   ],
   "source": [
    "# Membership Operator\n",
    "# Workks in all data types (list , tuple , sets , Dictionary)\n",
    "# in  /  not in\n",
    "\n",
    "print('D' in 'Delhi') # questioning if D exist in delhi or not (first occurence) \n",
    "\n",
    "print(1 in [2 , 3 , 4])"
   ]
  },
  {
   "cell_type": "code",
   "execution_count": 13,
   "id": "31452a55-3efc-471b-979c-de1351b17994",
   "metadata": {},
   "outputs": [
    {
     "name": "stdin",
     "output_type": "stream",
     "text": [
      "Enter 3 digit number 123\n"
     ]
    },
    {
     "name": "stdout",
     "output_type": "stream",
     "text": [
      "6\n"
     ]
    }
   ],
   "source": [
    "# Program - Find the sum of 3 digit number\n",
    "\n",
    "num = int(input('Enter 3 digit number'))\n",
    "\n",
    "a = num%10\n",
    "num = num//10\n",
    "#123/10 --> 12\n",
    "b = num%10\n",
    "num = num//10\n",
    "#12/10 --> 1\n",
    "c = num%10\n",
    "num = num//10\n",
    "\n",
    "print(a+b+c)"
   ]
  },
  {
   "cell_type": "markdown",
   "id": "6e6b4492-1b6b-4da0-bba1-3c6f75b4ea09",
   "metadata": {},
   "source": [
    "**If - else in Python**"
   ]
  },
  {
   "cell_type": "raw",
   "id": "94939040-23fe-4385-8834-516189020001",
   "metadata": {},
   "source": [
    "if condition: # colon is used after condition\n",
    "   # code\n",
    "elif condition:\n",
    "  #code\n",
    "else:\n",
    "   # code"
   ]
  },
  {
   "cell_type": "code",
   "execution_count": 16,
   "id": "1d6f9a44-1475-4c51-b376-7a65a720dbb2",
   "metadata": {},
   "outputs": [
    {
     "name": "stdin",
     "output_type": "stream",
     "text": [
      "Enter email: example@gmail.com\n",
      "Enter password 1235\n"
     ]
    },
    {
     "name": "stdout",
     "output_type": "stream",
     "text": [
      "Incorrect password\n"
     ]
    },
    {
     "name": "stdin",
     "output_type": "stream",
     "text": [
      "try again 1234\n"
     ]
    },
    {
     "name": "stdout",
     "output_type": "stream",
     "text": [
      "Welcome back\n"
     ]
    }
   ],
   "source": [
    "# login program and indentation\n",
    "# email - kk14kartikumar@gmail.com\n",
    "# password - 1234\n",
    "\n",
    "email = input('Enter email:')\n",
    "password = input('Enter password')\n",
    "\n",
    "if email == 'example@gmail.com' and password == '1234':\n",
    "    print('Welcome')\n",
    "elif email == 'example@gmail.com' and password != '1234':\n",
    "    print('Incorrect password')\n",
    "    password = input('try again')\n",
    "    if password == '1234':\n",
    "        print('Welcome back')\n",
    "    else:\n",
    "        print('You are a robot')\n",
    "else:\n",
    "    print('Not correct')"
   ]
  },
  {
   "cell_type": "code",
   "execution_count": 66,
   "id": "792302fb-056e-453b-b2a7-e7fb2ee70071",
   "metadata": {},
   "outputs": [
    {
     "name": "stdin",
     "output_type": "stream",
     "text": [
      "first number 11\n",
      "second number 10\n",
      "third number 13\n"
     ]
    },
    {
     "name": "stdout",
     "output_type": "stream",
     "text": [
      "smallest is 10\n"
     ]
    }
   ],
   "source": [
    "# Program - Find the min of 3 given number\n",
    "\n",
    "a = int(input('first number'))\n",
    "b = int(input('second number'))\n",
    "c = int(input('third number'))\n",
    "\n",
    "if a<b and a<c:\n",
    "    print('smallest is',a)\n",
    "elif b<c: \n",
    "    print('smallest is',b)\n",
    "else:\n",
    "    print('smallest is',c)"
   ]
  },
  {
   "cell_type": "code",
   "execution_count": 23,
   "id": "a4c1d368-2b9a-4379-acf0-40419e48fbdf",
   "metadata": {},
   "outputs": [
    {
     "name": "stdin",
     "output_type": "stream",
     "text": [
      "first number 12\n",
      "second number 49\n"
     ]
    },
    {
     "name": "stdout",
     "output_type": "stream",
     "text": [
      "1 - Add\n",
      "2 - Subtract\n",
      "3 - Multiply\n",
      "4 - Division\n"
     ]
    },
    {
     "name": "stdin",
     "output_type": "stream",
     "text": [
      "Enter your choice 4\n"
     ]
    },
    {
     "name": "stdout",
     "output_type": "stream",
     "text": [
      "0.24489795918367346\n"
     ]
    }
   ],
   "source": [
    "# Menu Driven Program calculator\n",
    "a = int(input('first number'))\n",
    "b = int(input('second number'))\n",
    "\n",
    "print(\"\"\"1 - Add\n",
    "2 - Subtract\n",
    "3 - Multiply\n",
    "4 - Division\"\"\")\n",
    "\n",
    "select = int(input('Enter your choice'))\n",
    "\n",
    "if select == 1:\n",
    "    print(a+b)\n",
    "elif select == 2:\n",
    "    print(a-b)\n",
    "elif select == 3:\n",
    "    print(a*b)\n",
    "elif select == 4:\n",
    "    print(a/b)\n",
    "else:\n",
    "    print('Wrong Choice')\n"
   ]
  },
  {
   "cell_type": "markdown",
   "id": "16c2dbaa-6a39-436e-979e-124aade150f7",
   "metadata": {},
   "source": [
    "**MODULES in Python**\n",
    " - math\n",
    " - keyword\n",
    " - random\n",
    " - date time"
   ]
  },
  {
   "cell_type": "code",
   "execution_count": 41,
   "id": "d4fddbf7-ddf4-4508-aaaf-3e86670b5af0",
   "metadata": {},
   "outputs": [],
   "source": [
    "# modules --> like scanner java\n",
    "# /packages --> collection of modules\n",
    "# library --> collection of packages"
   ]
  },
  {
   "cell_type": "code",
   "execution_count": 42,
   "id": "3c364878-8cb6-4627-9937-f4b2029d4cc9",
   "metadata": {},
   "outputs": [
    {
     "data": {
      "text/plain": [
       "120"
      ]
     },
     "execution_count": 42,
     "metadata": {},
     "output_type": "execute_result"
    }
   ],
   "source": [
    "# math\n",
    "import math\n",
    "math.factorial(5)"
   ]
  },
  {
   "cell_type": "code",
   "execution_count": 44,
   "id": "f0454b84-b25a-466a-986d-10307843b85d",
   "metadata": {},
   "outputs": [
    {
     "data": {
      "text/plain": [
       "7"
      ]
     },
     "execution_count": 44,
     "metadata": {},
     "output_type": "execute_result"
    }
   ],
   "source": [
    "from math import floor  # this gives us a particular function from module and any other function will not work\n",
    "# this function will save time and memory for us\n",
    "floor(7.2359)"
   ]
  },
  {
   "cell_type": "markdown",
   "id": "c1980690-04d6-4de8-857f-3b308803cd7c",
   "metadata": {},
   "source": [
    "![Image](https://1.bp.blogspot.com/-ykopw4ATDnY/XXL0qHcHkhI/AAAAAAAABRY/qsGPS2gklWITnqI_pLc1k-b9p_gJ4mXIQCLcBGAs/s1600/noname01.png)"
   ]
  },
  {
   "cell_type": "code",
   "execution_count": 85,
   "id": "f2a6f631-277a-410d-a722-5ed2d4ea29c7",
   "metadata": {},
   "outputs": [
    {
     "name": "stdout",
     "output_type": "stream",
     "text": [
      "['False', 'None', 'True', 'and', 'as', 'assert', 'async', 'await', 'break', 'class', 'continue', 'def', 'del', 'elif', 'else', 'except', 'finally', 'for', 'from', 'global', 'if', 'import', 'in', 'is', 'lambda', 'nonlocal', 'not', 'or', 'pass', 'raise', 'return', 'try', 'while', 'with', 'yield']\n"
     ]
    }
   ],
   "source": [
    "# keyword\n",
    "import keyword\n",
    "\n",
    "print(keyword.kwlist)"
   ]
  },
  {
   "cell_type": "code",
   "execution_count": 50,
   "id": "3a872dd1-4728-4ba9-bc01-86a919a8e548",
   "metadata": {},
   "outputs": [
    {
     "name": "stdout",
     "output_type": "stream",
     "text": [
      "66\n"
     ]
    }
   ],
   "source": [
    "# random \n",
    "import random\n",
    "print(random.randint(1,100)) # randint used for range"
   ]
  },
  {
   "cell_type": "code",
   "execution_count": 45,
   "id": "00d3ef10-c0a2-465d-9fb8-b3216df46982",
   "metadata": {},
   "outputs": [
    {
     "name": "stdout",
     "output_type": "stream",
     "text": [
      "2024-07-03 18:29:22.086482\n"
     ]
    }
   ],
   "source": [
    "# datetime\n",
    "import datetime\n",
    "print(datetime.datetime.now())"
   ]
  },
  {
   "cell_type": "code",
   "execution_count": 90,
   "id": "8f44bb57-f44f-4619-900b-e34428958912",
   "metadata": {},
   "outputs": [],
   "source": [
    "# to see all modules\n",
    "#help('modules')"
   ]
  },
  {
   "cell_type": "markdown",
   "id": "b502d365-1bfa-4ce2-bde2-251693791c5a",
   "metadata": {},
   "source": [
    "**LOOPS in Python\n",
    " - While loop\n",
    " - For loop"
   ]
  },
  {
   "cell_type": "code",
   "execution_count": 91,
   "id": "34526a60-fa89-402d-93ae-6f5f7b80e74e",
   "metadata": {},
   "outputs": [
    {
     "name": "stdin",
     "output_type": "stream",
     "text": [
      "Enter the number 5\n"
     ]
    },
    {
     "name": "stdout",
     "output_type": "stream",
     "text": [
      "5\n",
      "10\n",
      "15\n",
      "20\n",
      "25\n",
      "30\n",
      "35\n",
      "40\n",
      "45\n",
      "50\n"
     ]
    }
   ],
   "source": [
    "# While loop example -> program to print the table\n",
    "\n",
    "a = int(input('Enter the number'))\n",
    "\n",
    "i = 1\n",
    "while i<11:\n",
    "    print(a*i)\n",
    "    i += 1"
   ]
  },
  {
   "cell_type": "code",
   "execution_count": 92,
   "id": "9dee4090-8252-48bd-aee5-364fd748a6bd",
   "metadata": {},
   "outputs": [
    {
     "name": "stdout",
     "output_type": "stream",
     "text": [
      "1\n",
      "limit crossed\n"
     ]
    }
   ],
   "source": [
    "# While loop with else\n",
    "x = 1\n",
    "while x<2:\n",
    "    print(x)\n",
    "    x += 1\n",
    "\n",
    "else:\n",
    "    print('limit crossed')"
   ]
  },
  {
   "cell_type": "code",
   "execution_count": 116,
   "id": "27a8cb06-ba66-40ed-82dc-6b80182e2525",
   "metadata": {},
   "outputs": [
    {
     "name": "stdin",
     "output_type": "stream",
     "text": [
      "Guess the number 49\n"
     ]
    },
    {
     "name": "stdout",
     "output_type": "stream",
     "text": [
      "Wrong guess higher\n"
     ]
    },
    {
     "name": "stdin",
     "output_type": "stream",
     "text": [
      "try again 74\n"
     ]
    },
    {
     "name": "stdout",
     "output_type": "stream",
     "text": [
      "Wrong guess higher\n"
     ]
    },
    {
     "name": "stdin",
     "output_type": "stream",
     "text": [
      "try again 88\n"
     ]
    },
    {
     "name": "stdout",
     "output_type": "stream",
     "text": [
      "Wrong guess higher\n"
     ]
    },
    {
     "name": "stdin",
     "output_type": "stream",
     "text": [
      "try again 92\n"
     ]
    },
    {
     "name": "stdout",
     "output_type": "stream",
     "text": [
      "Wrong guess higher\n"
     ]
    },
    {
     "name": "stdin",
     "output_type": "stream",
     "text": [
      "try again 97\n"
     ]
    },
    {
     "name": "stdout",
     "output_type": "stream",
     "text": [
      "Wrong guess higher\n"
     ]
    },
    {
     "name": "stdin",
     "output_type": "stream",
     "text": [
      "try again 99\n"
     ]
    },
    {
     "name": "stdout",
     "output_type": "stream",
     "text": [
      "You won the jackpot\n",
      "Attempts 6\n"
     ]
    }
   ],
   "source": [
    "# Guessing game\n",
    "\n",
    "# generate a random integer b/w 1 and 100\n",
    "import random\n",
    "jackpot = random.randint(1,100)\n",
    "\n",
    "a = int(input('Guess the number'))\n",
    "counter = 1\n",
    "while a != jackpot:\n",
    "    if  a < jackpot:\n",
    "        print('Wrong guess higher')\n",
    "    else:\n",
    "        print('Wrong guess lower')\n",
    "         \n",
    "    a = int(input('try again'))\n",
    "    counter += 1\n",
    "\n",
    "else:\n",
    "    print('You won the jackpot')\n",
    "    print('Attempts',counter)\n",
    "        "
   ]
  },
  {
   "cell_type": "code",
   "execution_count": 123,
   "id": "42e03855-d0d5-4892-9112-8029c0613622",
   "metadata": {},
   "outputs": [
    {
     "name": "stdout",
     "output_type": "stream",
     "text": [
      "1\n",
      "3\n",
      "5\n",
      "7\n",
      "9\n"
     ]
    }
   ],
   "source": [
    "# For loop \n",
    "# Can itterate in tuple , set , list , dictionary\n",
    "\n",
    "for i in range(1,11,2):  # range first is included later is excluded # the last number means in interval of\n",
    "    print(i)"
   ]
  },
  {
   "cell_type": "code",
   "execution_count": 57,
   "id": "4c899aa4-10fe-420b-b313-3a3787433b94",
   "metadata": {},
   "outputs": [
    {
     "name": "stdout",
     "output_type": "stream",
     "text": [
      "10\n",
      "9\n",
      "8\n",
      "7\n",
      "6\n",
      "5\n",
      "4\n",
      "3\n",
      "2\n",
      "1\n"
     ]
    }
   ],
   "source": [
    "# for loop in rev\n",
    "for i in range(10,0,-1):\n",
    "    print(i)"
   ]
  },
  {
   "cell_type": "code",
   "execution_count": 62,
   "id": "b9625eae-3d8c-4040-a421-87a334029e3e",
   "metadata": {},
   "outputs": [
    {
     "name": "stdout",
     "output_type": "stream",
     "text": [
      "L\n",
      "U\n",
      "C\n",
      "K\n",
      "N\n",
      "O\n",
      "W\n"
     ]
    }
   ],
   "source": [
    "# for loop in string\n",
    "for i in 'LUCKNOW':\n",
    "    print(i)"
   ]
  },
  {
   "cell_type": "markdown",
   "id": "fb9587e2-9399-4c41-9eb5-291954035cc7",
   "metadata": {},
   "source": [
    " **Program ->** The current population of town is 100000. The population\n",
    "  increase at the rate of 10% per year.You have to write a program to find\n",
    "  out the end of each of the last 10 years"
   ]
  },
  {
   "cell_type": "code",
   "execution_count": 63,
   "id": "9bef9dce-cb01-4049-94ee-1ca22090f888",
   "metadata": {},
   "outputs": [
    {
     "name": "stdout",
     "output_type": "stream",
     "text": [
      "10 10000\n",
      "9 9090.90909090909\n",
      "8 8264.462809917353\n",
      "7 7513.148009015775\n",
      "6 6830.134553650703\n",
      "5 6209.213230591548\n",
      "4 5644.739300537771\n",
      "3 5131.5811823070635\n",
      "2 4665.07380209733\n",
      "1 4240.976183724845\n"
     ]
    }
   ],
   "source": [
    "curr_pop = 10000\n",
    "\n",
    "for i in range(10,0,-1):\n",
    "    print(i,curr_pop)\n",
    "    curr_pop = curr_pop/1.1"
   ]
  },
  {
   "cell_type": "code",
   "execution_count": null,
   "id": "fba089dc-9cc2-4a34-942b-d6676c5cbf35",
   "metadata": {},
   "outputs": [],
   "source": []
  }
 ],
 "metadata": {
  "kernelspec": {
   "display_name": "Python 3 (ipykernel)",
   "language": "python",
   "name": "python3"
  },
  "language_info": {
   "codemirror_mode": {
    "name": "ipython",
    "version": 3
   },
   "file_extension": ".py",
   "mimetype": "text/x-python",
   "name": "python",
   "nbconvert_exporter": "python",
   "pygments_lexer": "ipython3",
   "version": "3.11.7"
  }
 },
 "nbformat": 4,
 "nbformat_minor": 5
}
