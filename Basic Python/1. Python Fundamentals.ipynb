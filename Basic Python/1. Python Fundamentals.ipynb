{
 "cells": [
  {
   "cell_type": "markdown",
   "id": "2c8c3863-0480-453d-8f3b-42aa92f36eef",
   "metadata": {},
   "source": [
    "# PYTHON BASICS"
   ]
  },
  {
   "cell_type": "markdown",
   "id": "5b3065b8-0cdc-4ae2-9f83-ec079eb9513d",
   "metadata": {},
   "source": [
    "**PRINT FUNCTION**"
   ]
  },
  {
   "cell_type": "code",
   "execution_count": 2,
   "id": "65b1e272-82d1-4f9b-b912-f2ce2dabb7a9",
   "metadata": {},
   "outputs": [
    {
     "name": "stdout",
     "output_type": "stream",
     "text": [
      "Hello World\n"
     ]
    }
   ],
   "source": [
    "# Python is a case sensitive language\n",
    "# PRINT & print are different\n",
    "print('Hello World')"
   ]
  },
  {
   "cell_type": "code",
   "execution_count": 4,
   "id": "185cedb7-bd79-4ea6-8826-4780d5ad24b9",
   "metadata": {},
   "outputs": [],
   "source": [
    "# print(hello world)\n",
    "# above will give error because no apostraphe\n",
    "# boolean , number sab print hota hai "
   ]
  },
  {
   "cell_type": "code",
   "execution_count": 6,
   "id": "f64e6c27-2091-404f-87e7-7d04b62f5acf",
   "metadata": {},
   "outputs": [
    {
     "name": "stdout",
     "output_type": "stream",
     "text": [
      "Hello 1 4.5 True\n"
     ]
    }
   ],
   "source": [
    "print('Hello',1,4.5,True)\n",
    "# flexible print function seperated by a space"
   ]
  },
  {
   "cell_type": "code",
   "execution_count": 4,
   "id": "ca92044d-ceab-4d05-bec3-42bb5c25f663",
   "metadata": {},
   "outputs": [
    {
     "name": "stdout",
     "output_type": "stream",
     "text": [
      "Hello/1/4.5/False\n"
     ]
    }
   ],
   "source": [
    "print('Hello',1,4.5,False,sep='/' )\n",
    "# sep is called separator and we have overidden it above with /\n",
    "# sep is by default set to space"
   ]
  },
  {
   "cell_type": "code",
   "execution_count": 11,
   "id": "39077d4f-2198-4793-bc5d-a583ee660edb",
   "metadata": {},
   "outputs": [
    {
     "name": "stdout",
     "output_type": "stream",
     "text": [
      "hello-world\n"
     ]
    }
   ],
   "source": [
    "print('hello',end = '-')\n",
    "print('world')\n",
    "# end default value is line change above we have overiddenn it with -\n",
    "# by default it would have printed hello and world in separate line"
   ]
  },
  {
   "cell_type": "code",
   "execution_count": 15,
   "id": "19927b39-23e8-4c59-a43a-096b7e040273",
   "metadata": {},
   "outputs": [
    {
     "name": "stdout",
     "output_type": "stream",
     "text": [
      "hello\tworld\n"
     ]
    }
   ],
   "source": [
    "print('hello' , end = '\\t') # /t add four spaces (/n is called escape characters)\n",
    "print('world')"
   ]
  },
  {
   "cell_type": "markdown",
   "id": "7c3c108f-fa16-4349-892f-8759350b20a0",
   "metadata": {},
   "source": [
    "**DATA TYPES**"
   ]
  },
  {
   "cell_type": "code",
   "execution_count": 15,
   "id": "4e943d92-4bca-4c96-ab11-6a66b1f17a6e",
   "metadata": {},
   "outputs": [
    {
     "name": "stdout",
     "output_type": "stream",
     "text": [
      "8\n",
      "inf\n"
     ]
    }
   ],
   "source": [
    "# Integers\n",
    "print(8)\n",
    "# 1e308 max capacity (1*10^308)\n",
    "print(1e309)"
   ]
  },
  {
   "cell_type": "code",
   "execution_count": 16,
   "id": "01ee643e-6e7c-4e77-b841-eabe44093169",
   "metadata": {},
   "outputs": [
    {
     "name": "stdout",
     "output_type": "stream",
     "text": [
      "8.55\n",
      "1.7e+308\n"
     ]
    }
   ],
   "source": [
    "# Decimal/Float\n",
    "print(8.55)\n",
    "# 1.7e308 max capacity\n",
    "print(1.7e308)"
   ]
  },
  {
   "cell_type": "code",
   "execution_count": 19,
   "id": "1beccdf3-4df0-418f-bf9d-c0ae4c6e7a8c",
   "metadata": {},
   "outputs": [
    {
     "name": "stdout",
     "output_type": "stream",
     "text": [
      "True\n",
      "False\n"
     ]
    }
   ],
   "source": [
    "# Boolean\n",
    "print(True)\n",
    "print(False)"
   ]
  },
  {
   "cell_type": "code",
   "execution_count": 21,
   "id": "74dadcae-31b3-4153-872a-7d3c123ffc13",
   "metadata": {},
   "outputs": [
    {
     "name": "stdout",
     "output_type": "stream",
     "text": [
      "Hello World\n"
     ]
    }
   ],
   "source": [
    "# Text/String\n",
    "print('Hello World')"
   ]
  },
  {
   "cell_type": "code",
   "execution_count": 22,
   "id": "6ffc61b3-51e6-4e4a-8e6f-bc0d0a478e05",
   "metadata": {},
   "outputs": [
    {
     "name": "stdout",
     "output_type": "stream",
     "text": [
      "(5+6j)\n"
     ]
    }
   ],
   "source": [
    "# complex\n",
    "print(5+6j)"
   ]
  },
  {
   "cell_type": "code",
   "execution_count": 23,
   "id": "f7911387-6fa0-4b45-99ef-5cca2b816f63",
   "metadata": {},
   "outputs": [
    {
     "name": "stdout",
     "output_type": "stream",
     "text": [
      "[1, 2, 3, 4]\n"
     ]
    }
   ],
   "source": [
    "# LIST -> (Array)\n",
    "print([1,2,3,4])\n",
    "# [] brackets used for list"
   ]
  },
  {
   "cell_type": "code",
   "execution_count": 24,
   "id": "2d395888-395a-4ae5-b898-953904474539",
   "metadata": {},
   "outputs": [
    {
     "name": "stdout",
     "output_type": "stream",
     "text": [
      "(1, 2, 3, 4)\n"
     ]
    }
   ],
   "source": [
    "# Tuple\n",
    "print((1,2,3,4))\n",
    "# () brackets used for tuple {major diff}"
   ]
  },
  {
   "cell_type": "code",
   "execution_count": 26,
   "id": "05b19400-71ae-4bce-98ec-074e80fe3c50",
   "metadata": {},
   "outputs": [
    {
     "name": "stdout",
     "output_type": "stream",
     "text": [
      "{1, 2, 3, 4}\n"
     ]
    }
   ],
   "source": [
    "# Sets\n",
    "print({1,2,3,4})\n",
    "# {} brackets used for diff"
   ]
  },
  {
   "cell_type": "markdown",
   "id": "8a4952bf-27ce-4716-9e39-c9273c87b9d9",
   "metadata": {},
   "source": [
    "LIST --- > []\n",
    "|| TUPLE -- > ()\n",
    "|| SETS --- > {}"
   ]
  },
  {
   "cell_type": "code",
   "execution_count": 17,
   "id": "55abf7f8-8636-4498-9c63-373cf72ce6f6",
   "metadata": {},
   "outputs": [
    {
     "name": "stdout",
     "output_type": "stream",
     "text": [
      "{'name': 'Kartik', 'gender': 'Male', 'weight': 70}\n"
     ]
    }
   ],
   "source": [
    "# MOST IMP DATA TYPE \n",
    "# Dictionary key-value pair  2D - dictionary is called nested dictionary\n",
    "print({'name' : 'Kartik','gender':'Male','weight':70})"
   ]
  },
  {
   "cell_type": "code",
   "execution_count": 50,
   "id": "9c408d50-3c80-45ab-b7ab-63007af5a939",
   "metadata": {},
   "outputs": [
    {
     "data": {
      "text/plain": [
       "str"
      ]
     },
     "execution_count": 50,
     "metadata": {},
     "output_type": "execute_result"
    }
   ],
   "source": [
    "# type function\n",
    "type('Hello')\n",
    "# data type bta deta hai"
   ]
  },
  {
   "cell_type": "code",
   "execution_count": 20,
   "id": "8f2c036a-f2ec-45b8-9dfa-e9135e60a62e",
   "metadata": {},
   "outputs": [
    {
     "data": {
      "text/plain": [
       "bool"
      ]
     },
     "execution_count": 20,
     "metadata": {},
     "output_type": "execute_result"
    }
   ],
   "source": [
    "type(True)"
   ]
  },
  {
   "cell_type": "markdown",
   "id": "36cf1d16-2a6b-424c-aa65-2ccc4e831f6f",
   "metadata": {},
   "source": [
    "**VARIABLES**"
   ]
  },
  {
   "cell_type": "code",
   "execution_count": 32,
   "id": "4a7129db-0af6-478f-b4dc-db9bf9ed3f9b",
   "metadata": {},
   "outputs": [],
   "source": [
    "# They are containers for future use\n",
    "# Three type of variable\n",
    "# Static Vs Dynamic Typing\n",
    "# Static Vs Dynamic Binding\n",
    "# stylish declaration techniques"
   ]
  },
  {
   "cell_type": "code",
   "execution_count": 21,
   "id": "86122112-54e3-4a8e-bf8b-835581f82690",
   "metadata": {},
   "outputs": [
    {
     "name": "stdout",
     "output_type": "stream",
     "text": [
      "Kartik\n",
      "11\n"
     ]
    }
   ],
   "source": [
    "name = 'Kartik'\n",
    "print(name)\n",
    "\n",
    "# Python doesn't need to declare data type \n",
    "\n",
    "a = 5\n",
    "b = 6\n",
    "\n",
    "print(a+b)"
   ]
  },
  {
   "cell_type": "code",
   "execution_count": 37,
   "id": "8d88a549-b621-47a5-a65f-97a2b05081c5",
   "metadata": {},
   "outputs": [],
   "source": [
    "# Dynamic Typing - No need of declaring data type\n",
    "a = 5\n",
    "# Static Typing need for declaring data type\n",
    "# int a = 5"
   ]
  },
  {
   "cell_type": "code",
   "execution_count": 38,
   "id": "c3f15b02-ecf6-4e41-be67-08a8cd27558c",
   "metadata": {},
   "outputs": [
    {
     "name": "stdout",
     "output_type": "stream",
     "text": [
      "5\n",
      "kartik\n"
     ]
    }
   ],
   "source": [
    "# Dynamic Binding --> python supports any variable data type we can use two different data type with same variable name\n",
    "a = 5\n",
    "print(a)\n",
    "a = 'kartik'\n",
    "print(a)\n",
    "\n",
    "# Static Binding --> like java variable store just one data type"
   ]
  },
  {
   "cell_type": "code",
   "execution_count": 40,
   "id": "641ef202-bf52-47cc-b1e1-723b7d1c9265",
   "metadata": {},
   "outputs": [
    {
     "name": "stdout",
     "output_type": "stream",
     "text": [
      "1 2 3\n",
      "1 2 3\n",
      "5 5 5\n"
     ]
    }
   ],
   "source": [
    "# Normal method\n",
    "a = 1\n",
    "b = 2\n",
    "c = 3\n",
    "print(a,b,c)\n",
    "\n",
    "# stylish variable --> compress it in single line\n",
    "a,b,c = 1,2,3\n",
    "print(a,b,c)\n",
    "\n",
    "# one more way\n",
    "a=b=c=5\n",
    "print(a,b,c)"
   ]
  },
  {
   "cell_type": "markdown",
   "id": "774fd775-4545-4446-9407-8ecf195be255",
   "metadata": {},
   "source": [
    "**KEYWORDS & IDENTIFIERS**"
   ]
  },
  {
   "cell_type": "code",
   "execution_count": 23,
   "id": "ae53aa5b-b815-4d15-80aa-e62eb63f4aa5",
   "metadata": {},
   "outputs": [],
   "source": [
    "# pre defined reserved words for using functions (cannot use for variables)\n",
    "#Compiler directly converts into binary code (like c++ , java)\n",
    "# Python is interpretor (Execute line by line) (slow execution)\n",
    "# it uses english words to convert the program in binary code\n",
    "# Keywords --> There are 32 keywords"
   ]
  },
  {
   "attachments": {},
   "cell_type": "markdown",
   "id": "2e9c352f-e494-45f3-b8fe-327781f1b9dd",
   "metadata": {},
   "source": [
    "![Image](https://beginnersbook.com/wp-content/uploads/2019/03/Python_keywords-1024x485.jpg)"
   ]
  },
  {
   "cell_type": "code",
   "execution_count": 24,
   "id": "7a72dc5a-42fe-4dab-8059-7d14e920541a",
   "metadata": {},
   "outputs": [
    {
     "name": "stdout",
     "output_type": "stream",
     "text": [
      "kartik\n",
      "5\n"
     ]
    }
   ],
   "source": [
    "# Identifiers --> name given to anything(like variable)\n",
    "# Rules \n",
    "# 1 . You can't start with a digit\n",
    "# 2 . You can only use special character underscore\n",
    "first_name = 'kartik'\n",
    "_ = 5\n",
    "print(first_name)\n",
    "print(_)\n",
    "# 3 . Identifiers cannot be keywords"
   ]
  },
  {
   "cell_type": "markdown",
   "id": "93036ec3-695b-4d3b-ad6c-bf8e9f59ac74",
   "metadata": {},
   "source": [
    "**USER INPUT**"
   ]
  },
  {
   "cell_type": "code",
   "execution_count": 32,
   "id": "edd097f7-6062-433e-a7a0-af9eb52a2192",
   "metadata": {},
   "outputs": [
    {
     "name": "stdin",
     "output_type": "stream",
     "text": [
      "name kartik\n"
     ]
    },
    {
     "data": {
      "text/plain": [
       "'kartik'"
      ]
     },
     "execution_count": 32,
     "metadata": {},
     "output_type": "execute_result"
    }
   ],
   "source": [
    "# Static(Hard coded) Vs Dynamic\n",
    "# Static --> doesn't require user to put input\n",
    "# Dynamic --> User gives input\n",
    "# Built-in function input() is used\n",
    "\n",
    "input('name')"
   ]
  },
  {
   "cell_type": "code",
   "execution_count": 12,
   "id": "bb424f18-7a80-47e9-acf1-c9b16906dfe8",
   "metadata": {},
   "outputs": [
    {
     "name": "stdin",
     "output_type": "stream",
     "text": [
      "Enter second number 4\n",
      "Enter second number 5\n"
     ]
    },
    {
     "name": "stdout",
     "output_type": "stream",
     "text": [
      "<class 'str'> <class 'str'>\n",
      "45\n"
     ]
    }
   ],
   "source": [
    "# Program to input two number and print their sum\n",
    "# take input from user and store in variable\n",
    "a = input('Enter second number')\n",
    "b = input('Enter second number')\n",
    "print(type(a),type(b)) # String is a universal data type it can store anything but not reverse\n",
    "# add the 2 variable\n",
    "c = a + b \n",
    "# print the result\n",
    "print(c)"
   ]
  },
  {
   "cell_type": "markdown",
   "id": "1ff98d6f-3651-4db9-a1bb-6f391251a9d8",
   "metadata": {},
   "source": [
    "**TYPE CONVERSION/CASTING**"
   ]
  },
  {
   "cell_type": "code",
   "execution_count": 13,
   "id": "814e222c-2b7e-4599-94a9-ef2ccc504791",
   "metadata": {},
   "outputs": [
    {
     "name": "stdout",
     "output_type": "stream",
     "text": [
      "10.6\n",
      "<class 'int'> <class 'float'>\n"
     ]
    }
   ],
   "source": [
    "# Implicit Vs Explicit\n",
    "# impicit --> program does it on its own\n",
    "print(5+5.6)\n",
    "print(type(5),type(5.6))"
   ]
  },
  {
   "cell_type": "code",
   "execution_count": 29,
   "id": "5d0c3802-7012-488e-b0b0-c48f46bba27b",
   "metadata": {},
   "outputs": [
    {
     "data": {
      "text/plain": [
       "str"
      ]
     },
     "execution_count": 29,
     "metadata": {},
     "output_type": "execute_result"
    }
   ],
   "source": [
    "# Explicit --> programmer does it\n",
    "# str -> int\n",
    "type(int('4'))\n",
    "# cannot convert complex to int\n",
    "\n",
    "# int -> str\n",
    "type(str(5))"
   ]
  },
  {
   "cell_type": "code",
   "execution_count": 20,
   "id": "be78cdc7-c6bc-4e24-9cfa-e04d6ef91f98",
   "metadata": {},
   "outputs": [
    {
     "name": "stdin",
     "output_type": "stream",
     "text": [
      "Enter first number 4\n",
      "Enter second number 5\n"
     ]
    },
    {
     "name": "stdout",
     "output_type": "stream",
     "text": [
      "9\n",
      "<class 'str'>\n"
     ]
    }
   ],
   "source": [
    "# Above program CORRECTION\n",
    "a = input('Enter first number')\n",
    "b = input('Enter second number')\n",
    "c = int(a) + int(b) # This conversion creates a new object rather than changing the original input \n",
    "print(c)\n",
    "print(type(a)) # This is a string because the original input is not changed"
   ]
  },
  {
   "cell_type": "code",
   "execution_count": 21,
   "id": "cf8bf600-1a52-4667-990f-95683012a3e2",
   "metadata": {},
   "outputs": [
    {
     "name": "stdin",
     "output_type": "stream",
     "text": [
      "Enter a number 4\n"
     ]
    },
    {
     "name": "stdout",
     "output_type": "stream",
     "text": [
      "4\n",
      "<class 'int'>\n"
     ]
    }
   ],
   "source": [
    "# You can also use conversion like this\n",
    "a = int(input('Enter a number'))\n",
    "print(a)\n",
    "print(type(a))"
   ]
  },
  {
   "cell_type": "markdown",
   "id": "6e478fc5-4787-4cab-b0cc-a8c9092ea03f",
   "metadata": {},
   "source": [
    "**LITERALS**"
   ]
  },
  {
   "cell_type": "code",
   "execution_count": 33,
   "id": "91d23d97-a5bd-4372-ae1b-8dcc730b170d",
   "metadata": {},
   "outputs": [
    {
     "name": "stdout",
     "output_type": "stream",
     "text": [
      "10 100 200 300\n",
      "10.5 150.0 0.0015\n",
      "(1+3.14j) 1.0 3.14\n"
     ]
    }
   ],
   "source": [
    "# The raw value which is stored in variable is called LITERALS\n",
    "\n",
    "a = 0b1010 # binary Literal\n",
    "b = 100 # Decimal Literal\n",
    "c = 0o310 # Octal Literal\n",
    "d = 0x12c # Hexadecimal Literal\n",
    "\n",
    "# FLoat Literal\n",
    "float_1 = 10.5\n",
    "float_2 = 1.5e2\n",
    "float_3 = 1.5e-3\n",
    "\n",
    "# Complex Literal\n",
    "x = 1+3.14j\n",
    "print(a , b , c ,d)\n",
    "print(float_1 , float_2 , float_3)\n",
    "print(x ,x.real , x.imag)"
   ]
  },
  {
   "cell_type": "code",
   "execution_count": 38,
   "id": "5b7a49cb-986b-4e11-bcc0-424a490dc838",
   "metadata": {},
   "outputs": [
    {
     "name": "stdout",
     "output_type": "stream",
     "text": [
      "This is python\n",
      "This is Python\n",
      "C\n",
      "This is a multiline string \n",
      "string \n",
      "with more than one line code\n",
      "😀😆🤣\n",
      "raw \\n string\n"
     ]
    }
   ],
   "source": [
    "string = 'This is python'\n",
    "strings = \"This is Python\"\n",
    "char = \"C\"\n",
    "multiline_str = \"\"\"This is a multiline string \n",
    "string \n",
    "with more than one line code\"\"\"\n",
    "unicode = u\"\\U0001f600\\U0001F606\\U0001f923\"\n",
    "raw_str = r\"raw \\n string\"\n",
    "\n",
    "print(string)\n",
    "print(strings)\n",
    "print(char)\n",
    "print(multiline_str)\n",
    "print(unicode) # unicode are encoded values\n",
    "print(raw_str)"
   ]
  },
  {
   "cell_type": "code",
   "execution_count": 29,
   "id": "2d279c6b-052b-4dcc-9a36-799065e60f76",
   "metadata": {},
   "outputs": [
    {
     "name": "stdout",
     "output_type": "stream",
     "text": [
      "a: 5\n",
      "b: 10\n"
     ]
    }
   ],
   "source": [
    "# Boolean \n",
    "a = True + 4\n",
    "b = False + 10\n",
    "\n",
    "print(\"a:\", a)\n",
    "print(\"b:\", b)"
   ]
  },
  {
   "cell_type": "code",
   "execution_count": 49,
   "id": "045bf6a9-dc65-4fbe-8876-077f5b16e5f3",
   "metadata": {},
   "outputs": [
    {
     "name": "stdout",
     "output_type": "stream",
     "text": [
      "None\n"
     ]
    },
    {
     "data": {
      "text/plain": [
       "NoneType"
      ]
     },
     "execution_count": 49,
     "metadata": {},
     "output_type": "execute_result"
    }
   ],
   "source": [
    "# NONE Literal\n",
    "a = None # it is used to declare variable for future use\n",
    "print(a)\n",
    "type(a)"
   ]
  },
  {
   "cell_type": "code",
   "execution_count": null,
   "id": "325d1ec8-0c63-4839-a3e5-d7727fe5da87",
   "metadata": {},
   "outputs": [],
   "source": []
  }
 ],
 "metadata": {
  "kernelspec": {
   "display_name": "Python 3 (ipykernel)",
   "language": "python",
   "name": "python3"
  },
  "language_info": {
   "codemirror_mode": {
    "name": "ipython",
    "version": 3
   },
   "file_extension": ".py",
   "mimetype": "text/x-python",
   "name": "python",
   "nbconvert_exporter": "python",
   "pygments_lexer": "ipython3",
   "version": "3.11.7"
  }
 },
 "nbformat": 4,
 "nbformat_minor": 5
}
