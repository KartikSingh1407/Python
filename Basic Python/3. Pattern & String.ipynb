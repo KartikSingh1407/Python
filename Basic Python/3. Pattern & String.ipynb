{
 "cells": [
  {
   "cell_type": "markdown",
   "metadata": {
    "id": "9A3yWMLDT9y9"
   },
   "source": [
    "**Sequence** **/** **Pattern**\n",
    "\n",
    "1/1! + 2/2! + 3/3! +..."
   ]
  },
  {
   "cell_type": "code",
   "execution_count": 9,
   "metadata": {
    "colab": {
     "base_uri": "https://localhost:8080/"
    },
    "executionInfo": {
     "elapsed": 2800,
     "status": "ok",
     "timestamp": 1718009523313,
     "user": {
      "displayName": "Aman Singh",
      "userId": "15069203180863103067"
     },
     "user_tz": -330
    },
    "id": "WYCFY3dRUFlO",
    "outputId": "253a1388-4239-4d99-a9cc-eff952b4ac5e"
   },
   "outputs": [
    {
     "name": "stdin",
     "output_type": "stream",
     "text": [
      "Enter a number 3\n"
     ]
    },
    {
     "name": "stdout",
     "output_type": "stream",
     "text": [
      "2.5\n"
     ]
    }
   ],
   "source": [
    "a = int(input('Enter a number'))\n",
    "\n",
    "result = 0\n",
    "fac = 1\n",
    "for i in range(1,a+1):\n",
    "  fac = fac * i\n",
    "  result = result + i/fac\n",
    "\n",
    "print(result)"
   ]
  },
  {
   "cell_type": "markdown",
   "metadata": {
    "id": "WY9vTa8mWoch"
   },
   "source": [
    "**Nested Loop**"
   ]
  },
  {
   "cell_type": "code",
   "execution_count": null,
   "metadata": {
    "colab": {
     "base_uri": "https://localhost:8080/"
    },
    "executionInfo": {
     "elapsed": 514,
     "status": "ok",
     "timestamp": 1718009935308,
     "user": {
      "displayName": "Aman Singh",
      "userId": "15069203180863103067"
     },
     "user_tz": -330
    },
    "id": "t34FoYN7WuTa",
    "outputId": "db83badd-e0eb-4bc3-b204-2e753d2a79bf"
   },
   "outputs": [
    {
     "name": "stdout",
     "output_type": "stream",
     "text": [
      "1 1\n",
      "1 2\n",
      "1 3\n",
      "2 1\n",
      "2 2\n",
      "2 3\n",
      "3 1\n",
      "3 2\n",
      "3 3\n"
     ]
    }
   ],
   "source": [
    "# Examples -> Unique pairs\n",
    "\n",
    "for i in range(1,4):\n",
    "  for j in range(1,4): # first the inner loop will work then the outer loop works\n",
    "    print(i,j)"
   ]
  },
  {
   "cell_type": "markdown",
   "metadata": {
    "id": "8qEPqhrnX5Zl"
   },
   "source": [
    "**Pattern 1**"
   ]
  },
  {
   "cell_type": "code",
   "execution_count": null,
   "metadata": {
    "colab": {
     "base_uri": "https://localhost:8080/"
    },
    "executionInfo": {
     "elapsed": 4776,
     "status": "ok",
     "timestamp": 1718011568439,
     "user": {
      "displayName": "Aman Singh",
      "userId": "15069203180863103067"
     },
     "user_tz": -330
    },
    "id": "qzdjPt1IZJox",
    "outputId": "9e2f4b40-b66e-40dd-fa39-0766bd384a4e"
   },
   "outputs": [
    {
     "name": "stdout",
     "output_type": "stream",
     "text": [
      "Enter a number5\n",
      "1\n",
      "121\n",
      "12321\n",
      "1234321\n",
      "123454321\n"
     ]
    }
   ],
   "source": [
    "n = int(input('Enter a number'))\n",
    "\n",
    "for i in range(1,n+1):\n",
    "  for j in range(1,i+1):\n",
    "    print(j , end = '')\n",
    "  for k in range(i-1,0,-1):\n",
    "    print(k , end='')\n",
    "  print()"
   ]
  },
  {
   "cell_type": "markdown",
   "metadata": {
    "id": "jfCd0VwTaATl"
   },
   "source": [
    "**Pattern** **2**"
   ]
  },
  {
   "cell_type": "code",
   "execution_count": null,
   "metadata": {
    "colab": {
     "base_uri": "https://localhost:8080/"
    },
    "executionInfo": {
     "elapsed": 3879,
     "status": "ok",
     "timestamp": 1718010356993,
     "user": {
      "displayName": "Aman Singh",
      "userId": "15069203180863103067"
     },
     "user_tz": -330
    },
    "id": "L8IOMdLVXWi-",
    "outputId": "dd9a451a-31ed-400e-ce8b-f6a5fe4a8c49"
   },
   "outputs": [
    {
     "name": "stdout",
     "output_type": "stream",
     "text": [
      "Enter number of rows5\n",
      "*\n",
      "**\n",
      "***\n",
      "****\n",
      "*****\n"
     ]
    }
   ],
   "source": [
    "rows = int(input('Enter number of rows'))\n",
    "for i in range(1,rows+1):\n",
    "  for j in range(1,i+1):\n",
    "    print('*',end='')\n",
    "  print()"
   ]
  },
  {
   "cell_type": "markdown",
   "metadata": {
    "id": "XHbuNK6GcPn2"
   },
   "source": [
    "**Loop Control Statement**\n",
    "\n",
    "\n",
    "*   Break\n",
    "*   Continue\n",
    "*   Pass\n",
    "\n",
    "\n",
    "\n"
   ]
  },
  {
   "cell_type": "code",
   "execution_count": 12,
   "metadata": {
    "colab": {
     "base_uri": "https://localhost:8080/"
    },
    "executionInfo": {
     "elapsed": 8157,
     "status": "ok",
     "timestamp": 1718011875262,
     "user": {
      "displayName": "Aman Singh",
      "userId": "15069203180863103067"
     },
     "user_tz": -330
    },
    "id": "cf3Ojm_YaWAG",
    "outputId": "857a382d-ee86-4556-f2a0-e68b290e0fb2"
   },
   "outputs": [
    {
     "name": "stdin",
     "output_type": "stream",
     "text": [
      "Enter a lower range 1\n",
      "Enter upper range 11\n"
     ]
    },
    {
     "name": "stdout",
     "output_type": "stream",
     "text": [
      "1\n",
      "2\n",
      "3\n",
      "5\n",
      "7\n",
      "11\n"
     ]
    }
   ],
   "source": [
    "# Break -> Stoping the loop\n",
    "\n",
    "lower = int(input('Enter a lower range'))\n",
    "upper = int(input('Enter upper range'))\n",
    "\n",
    "for i in range(lower,upper+1):\n",
    "  for j in range(2,i):\n",
    "    if i%j == 0:\n",
    "      break\n",
    "  else:\n",
    "    print(i)\n"
   ]
  },
  {
   "cell_type": "code",
   "execution_count": null,
   "metadata": {
    "colab": {
     "base_uri": "https://localhost:8080/"
    },
    "executionInfo": {
     "elapsed": 605,
     "status": "ok",
     "timestamp": 1718013287877,
     "user": {
      "displayName": "Aman Singh",
      "userId": "15069203180863103067"
     },
     "user_tz": -330
    },
    "id": "88LMbfMifKnX",
    "outputId": "6fca9bea-1516-4c5e-ddb6-44673de73f0c"
   },
   "outputs": [
    {
     "name": "stdout",
     "output_type": "stream",
     "text": [
      "1\n",
      "2\n",
      "3\n",
      "4\n",
      "6\n",
      "7\n",
      "8\n",
      "9\n"
     ]
    }
   ],
   "source": [
    "# Continue -> Skips the current itteration\n",
    "\n",
    "for i in range(1,10):\n",
    "  if i==5:\n",
    "    continue\n",
    "  print(i)"
   ]
  },
  {
   "cell_type": "code",
   "execution_count": null,
   "metadata": {
    "id": "2zx6PXeMkldw"
   },
   "outputs": [],
   "source": [
    "# pass -> just passing in next loop(if u want to keep something and use it letetr)\n",
    "\n",
    "for i in range(1,10):\n",
    "  pass"
   ]
  },
  {
   "cell_type": "markdown",
   "metadata": {
    "id": "NgirEF7qkZmf"
   },
   "source": [
    "**STRING**"
   ]
  },
  {
   "cell_type": "markdown",
   "metadata": {
    "id": "BOQZIVgJlINf"
   },
   "source": [
    "*String are sequence of characters*\n",
    "\n",
    "In python specifically strings are a sequence of **Unicode Character**\n",
    "\n",
    "String is immutable\n",
    "\n",
    "\n",
    "*   Creating Strings\n",
    "*   Accessing Strings\n",
    "*   Adding Chars to Strings\n",
    "*   Editing Strings\n",
    "*   Deleting Strings\n",
    "*   Operations on Strings\n",
    "*   String Functions\n",
    "\n",
    "\n",
    "\n"
   ]
  },
  {
   "cell_type": "code",
   "execution_count": 14,
   "metadata": {
    "colab": {
     "base_uri": "https://localhost:8080/"
    },
    "executionInfo": {
     "elapsed": 678,
     "status": "ok",
     "timestamp": 1718030880926,
     "user": {
      "displayName": "Aman Singh",
      "userId": "15069203180863103067"
     },
     "user_tz": -330
    },
    "id": "lkocsbrnlKKm",
    "outputId": "20fd80d1-0b81-4222-c64b-bf4372286683"
   },
   "outputs": [
    {
     "name": "stdout",
     "output_type": "stream",
     "text": [
      "4\n"
     ]
    }
   ],
   "source": [
    "# Creation\n",
    "\n",
    "s = 'helo'\n",
    "s = \"hello\"\n",
    "s = '''helllo''' # Multiline Strings\n",
    "s = \"\"\"helllllo\"\"\"\n",
    "s = str(4)  # type casting\n",
    "print(s)"
   ]
  },
  {
   "cell_type": "markdown",
   "metadata": {
    "id": "XeCKQF4Hn1i9"
   },
   "source": [
    "*Accesing substring from string*"
   ]
  },
  {
   "cell_type": "code",
   "execution_count": null,
   "metadata": {
    "colab": {
     "base_uri": "https://localhost:8080/"
    },
    "executionInfo": {
     "elapsed": 3,
     "status": "ok",
     "timestamp": 1718031091724,
     "user": {
      "displayName": "Aman Singh",
      "userId": "15069203180863103067"
     },
     "user_tz": -330
    },
    "id": "3TPiuNa2mpUg",
    "outputId": "cc64b10c-2f7d-4c3a-8c3b-82ba9dc43de3"
   },
   "outputs": [
    {
     "name": "stdout",
     "output_type": "stream",
     "text": [
      "n\n"
     ]
    }
   ],
   "source": [
    "# Positive Indexing\n",
    "\n",
    "s = 'Helllo duniya'\n",
    "print(s[9])"
   ]
  },
  {
   "cell_type": "code",
   "execution_count": 16,
   "metadata": {
    "colab": {
     "base_uri": "https://localhost:8080/"
    },
    "executionInfo": {
     "elapsed": 5,
     "status": "ok",
     "timestamp": 1718087917231,
     "user": {
      "displayName": "Aman Singh",
      "userId": "15069203180863103067"
     },
     "user_tz": -330
    },
    "id": "QHQDDs7SoRc9",
    "outputId": "37b2e0ac-f265-41d4-fdfe-7ad1fb0c942a"
   },
   "outputs": [
    {
     "name": "stdout",
     "output_type": "stream",
     "text": [
      "o\n"
     ]
    }
   ],
   "source": [
    "# Negative Indexing\n",
    "\n",
    "s = 'hello world'  # d is assigned -1 , l is assigned -2 and so on\n",
    "print(s[-4])   # Negative goes from RIGHT -> LEFT"
   ]
  },
  {
   "cell_type": "code",
   "execution_count": 17,
   "metadata": {
    "colab": {
     "base_uri": "https://localhost:8080/"
    },
    "executionInfo": {
     "elapsed": 639,
     "status": "ok",
     "timestamp": 1718031576241,
     "user": {
      "displayName": "Aman Singh",
      "userId": "15069203180863103067"
     },
     "user_tz": -330
    },
    "id": "0URFoz6Aov6b",
    "outputId": "4400c341-3d89-48c4-8422-9f49e1b70357"
   },
   "outputs": [
    {
     "name": "stdout",
     "output_type": "stream",
     "text": [
      "Hello\n",
      "niya Hello\n",
      "dny \n"
     ]
    }
   ],
   "source": [
    "# Slicing   # extracts certain characters from given range\n",
    "\n",
    "s = 'Hello Duniya'\n",
    "print(s[0:5])\n",
    "\n",
    "d = 'Duniya Hello'\n",
    "print(d[2:])  # leaving blank takes all\n",
    "\n",
    "# leaving both range blank will print whole\n",
    "\n",
    "f = 'duniya hola'\n",
    "print(f[0:8:2])  # third number interval/steps # reverse then use -1"
   ]
  },
  {
   "cell_type": "code",
   "execution_count": null,
   "metadata": {
    "colab": {
     "base_uri": "https://localhost:8080/"
    },
    "executionInfo": {
     "elapsed": 377,
     "status": "ok",
     "timestamp": 1718031620992,
     "user": {
      "displayName": "Aman Singh",
      "userId": "15069203180863103067"
     },
     "user_tz": -330
    },
    "id": "WfLGqGxTpQEM",
    "outputId": "58a095a5-959f-46a3-c670-933580dbc09f"
   },
   "outputs": [
    {
     "name": "stdout",
     "output_type": "stream",
     "text": [
      "ayinuD olleH\n"
     ]
    }
   ],
   "source": [
    "print(s[::-1]) # Reversing the string shortcut"
   ]
  },
  {
   "cell_type": "code",
   "execution_count": 18,
   "metadata": {
    "colab": {
     "base_uri": "https://localhost:8080/"
    },
    "executionInfo": {
     "elapsed": 625,
     "status": "ok",
     "timestamp": 1718031775724,
     "user": {
      "displayName": "Aman Singh",
      "userId": "15069203180863103067"
     },
     "user_tz": -330
    },
    "id": "YPzqz0CAqeDu",
    "outputId": "be044faf-d6a3-4375-816a-992e2ad1c2b8"
   },
   "outputs": [
    {
     "name": "stdout",
     "output_type": "stream",
     "text": [
      "uni\n",
      "olleH\n"
     ]
    }
   ],
   "source": [
    "# Printing with negative Slicing\n",
    "\n",
    "print(s[-5:-2])\n",
    "print(d[-1:-6:-1]) # Always remember when reversing first range is always bigger"
   ]
  },
  {
   "cell_type": "markdown",
   "metadata": {
    "id": "wPyQ8LBhrOJ9"
   },
   "source": [
    "*Editing and Deleting*"
   ]
  },
  {
   "cell_type": "code",
   "execution_count": 19,
   "metadata": {
    "colab": {
     "base_uri": "https://localhost:8080/",
     "height": 211
    },
    "executionInfo": {
     "elapsed": 7,
     "status": "error",
     "timestamp": 1718031926038,
     "user": {
      "displayName": "Aman Singh",
      "userId": "15069203180863103067"
     },
     "user_tz": -330
    },
    "id": "cnLHTwfNq0hc",
    "outputId": "7f1f8e4c-f062-41c0-e497-a07c164b8af7"
   },
   "outputs": [
    {
     "ename": "TypeError",
     "evalue": "'str' object does not support item assignment",
     "output_type": "error",
     "traceback": [
      "\u001b[1;31m---------------------------------------------------------------------------\u001b[0m",
      "\u001b[1;31mTypeError\u001b[0m                                 Traceback (most recent call last)",
      "Cell \u001b[1;32mIn[19], line 2\u001b[0m\n\u001b[0;32m      1\u001b[0m s \u001b[38;5;241m=\u001b[39m \u001b[38;5;124m'\u001b[39m\u001b[38;5;124mHELLO WORLD\u001b[39m\u001b[38;5;124m'\u001b[39m\n\u001b[1;32m----> 2\u001b[0m s[\u001b[38;5;241m0\u001b[39m] \u001b[38;5;241m=\u001b[39m \u001b[38;5;124m'\u001b[39m\u001b[38;5;124mh\u001b[39m\u001b[38;5;124m'\u001b[39m\n",
      "\u001b[1;31mTypeError\u001b[0m: 'str' object does not support item assignment"
     ]
    }
   ],
   "source": [
    "s = 'HELLO WORLD'\n",
    "s[0] = 'h'\n",
    "\n",
    "# Pyhon strings are immutable -> Ek baar string banne ke baad change nhi hota"
   ]
  },
  {
   "cell_type": "code",
   "execution_count": null,
   "metadata": {
    "colab": {
     "base_uri": "https://localhost:8080/",
     "height": 176
    },
    "executionInfo": {
     "elapsed": 5,
     "status": "error",
     "timestamp": 1718031983054,
     "user": {
      "displayName": "Aman Singh",
      "userId": "15069203180863103067"
     },
     "user_tz": -330
    },
    "id": "rh5GpHVfrTKn",
    "outputId": "749dc181-ced2-4c6a-a751-b63fcc8c078b"
   },
   "outputs": [
    {
     "ename": "NameError",
     "evalue": "name 's' is not defined",
     "output_type": "error",
     "traceback": [
      "\u001b[0;31m---------------------------------------------------------------------------\u001b[0m",
      "\u001b[0;31mNameError\u001b[0m                                 Traceback (most recent call last)",
      "\u001b[0;32m<ipython-input-18-c05966b29595>\u001b[0m in \u001b[0;36m<cell line: 3>\u001b[0;34m()\u001b[0m\n\u001b[1;32m      1\u001b[0m \u001b[0ms\u001b[0m \u001b[0;34m=\u001b[0m \u001b[0;34m'Hello woeld'\u001b[0m\u001b[0;34m\u001b[0m\u001b[0;34m\u001b[0m\u001b[0m\n\u001b[1;32m      2\u001b[0m \u001b[0;32mdel\u001b[0m \u001b[0ms\u001b[0m\u001b[0;34m\u001b[0m\u001b[0;34m\u001b[0m\u001b[0m\n\u001b[0;32m----> 3\u001b[0;31m \u001b[0mprint\u001b[0m\u001b[0;34m(\u001b[0m\u001b[0ms\u001b[0m\u001b[0;34m)\u001b[0m\u001b[0;34m\u001b[0m\u001b[0;34m\u001b[0m\u001b[0m\n\u001b[0m",
      "\u001b[0;31mNameError\u001b[0m: name 's' is not defined"
     ]
    }
   ],
   "source": [
    "s = 'Hello woeld'\n",
    "del s\n",
    "print(s)"
   ]
  },
  {
   "cell_type": "code",
   "execution_count": null,
   "metadata": {
    "colab": {
     "base_uri": "https://localhost:8080/",
     "height": 176
    },
    "executionInfo": {
     "elapsed": 407,
     "status": "error",
     "timestamp": 1718032096181,
     "user": {
      "displayName": "Aman Singh",
      "userId": "15069203180863103067"
     },
     "user_tz": -330
    },
    "id": "ZHluHEW8r5nN",
    "outputId": "53474d83-fa7e-4e4e-aab4-f6a81f7ad806"
   },
   "outputs": [
    {
     "ename": "TypeError",
     "evalue": "'str' object does not support item deletion",
     "output_type": "error",
     "traceback": [
      "\u001b[0;31m---------------------------------------------------------------------------\u001b[0m",
      "\u001b[0;31mTypeError\u001b[0m                                 Traceback (most recent call last)",
      "\u001b[0;32m<ipython-input-20-6d32edbf34ce>\u001b[0m in \u001b[0;36m<cell line: 2>\u001b[0;34m()\u001b[0m\n\u001b[1;32m      1\u001b[0m \u001b[0ms\u001b[0m \u001b[0;34m=\u001b[0m \u001b[0;34m'Hello Woeld'\u001b[0m\u001b[0;34m\u001b[0m\u001b[0;34m\u001b[0m\u001b[0m\n\u001b[0;32m----> 2\u001b[0;31m \u001b[0;32mdel\u001b[0m \u001b[0ms\u001b[0m\u001b[0;34m[\u001b[0m\u001b[0;34m-\u001b[0m\u001b[0;36m1\u001b[0m\u001b[0;34m:\u001b[0m\u001b[0;34m-\u001b[0m\u001b[0;36m5\u001b[0m\u001b[0;34m]\u001b[0m  \u001b[0;31m# Not possible\u001b[0m\u001b[0;34m\u001b[0m\u001b[0;34m\u001b[0m\u001b[0m\n\u001b[0m\u001b[1;32m      3\u001b[0m \u001b[0mprint\u001b[0m\u001b[0;34m(\u001b[0m\u001b[0ms\u001b[0m\u001b[0;34m)\u001b[0m\u001b[0;34m\u001b[0m\u001b[0;34m\u001b[0m\u001b[0m\n",
      "\u001b[0;31mTypeError\u001b[0m: 'str' object does not support item deletion"
     ]
    }
   ],
   "source": [
    "s = 'Hello Woeld'\n",
    "del s[-1:-5]  # Not possible\n",
    "print(s)"
   ]
  },
  {
   "cell_type": "markdown",
   "metadata": {
    "id": "OPVIU66zsZL0"
   },
   "source": [
    "**OPERATION ON STRINGS**\n",
    "\n",
    "\n",
    "*   Arithmetic Operations\n",
    "*   Relational Operations\n",
    "*   Logical Operations\n",
    "*   Loops on Strings\n",
    "*   Membership Operations\n",
    "\n"
   ]
  },
  {
   "cell_type": "code",
   "execution_count": 22,
   "metadata": {
    "colab": {
     "base_uri": "https://localhost:8080/"
    },
    "executionInfo": {
     "elapsed": 407,
     "status": "ok",
     "timestamp": 1718032384646,
     "user": {
      "displayName": "Aman Singh",
      "userId": "15069203180863103067"
     },
     "user_tz": -330
    },
    "id": "Nz91ymsisN5M",
    "outputId": "3e594995-b162-42e9-fc55-f23bdf539baf"
   },
   "outputs": [
    {
     "name": "stdout",
     "output_type": "stream",
     "text": [
      "lkoBlr\n",
      "lkolkolko\n"
     ]
    }
   ],
   "source": [
    "# Arithmetic Operator\n",
    "# Python string only work with '+' and '*'\n",
    "\n",
    "print('lko'+''+'Blr') # + -> concatination\n",
    "print('lko'*3) # * times the string"
   ]
  },
  {
   "cell_type": "code",
   "execution_count": 25,
   "metadata": {
    "colab": {
     "base_uri": "https://localhost:8080/"
    },
    "executionInfo": {
     "elapsed": 5,
     "status": "ok",
     "timestamp": 1718032631976,
     "user": {
      "displayName": "Aman Singh",
      "userId": "15069203180863103067"
     },
     "user_tz": -330
    },
    "id": "XqJT7rBfsYNe",
    "outputId": "23e95e9c-0afc-4357-fd9d-690683f4d11f"
   },
   "outputs": [
    {
     "data": {
      "text/plain": [
       "False"
      ]
     },
     "execution_count": 25,
     "metadata": {},
     "output_type": "execute_result"
    }
   ],
   "source": [
    "# Relational Operator\n",
    "# Works on all the operator\n",
    "\n",
    "'mumbai' > 'pune'\n",
    "\n",
    "# LEXIOGRAPHICALLY --> means comparing on basis of ASCII Value\n",
    "# In simple term the word which comes later in dictionary is the bigger value"
   ]
  },
  {
   "cell_type": "code",
   "execution_count": 34,
   "metadata": {
    "colab": {
     "base_uri": "https://localhost:8080/",
     "height": 36
    },
    "executionInfo": {
     "elapsed": 481,
     "status": "ok",
     "timestamp": 1718032936645,
     "user": {
      "displayName": "Aman Singh",
      "userId": "15069203180863103067"
     },
     "user_tz": -330
    },
    "id": "Q9_o95BcuYN8",
    "outputId": "dd9ae7f8-12f3-4f6a-c13e-72aea97cb601"
   },
   "outputs": [
    {
     "data": {
      "text/plain": [
       "'world'"
      ]
     },
     "execution_count": 34,
     "metadata": {},
     "output_type": "execute_result"
    }
   ],
   "source": [
    "# Logical Operator\n",
    "\n",
    "'hello' and 'world' # Python has to check both the string and then prints the second string"
   ]
  },
  {
   "cell_type": "code",
   "execution_count": 31,
   "metadata": {
    "colab": {
     "base_uri": "https://localhost:8080/",
     "height": 36
    },
    "executionInfo": {
     "elapsed": 4,
     "status": "ok",
     "timestamp": 1718032899686,
     "user": {
      "displayName": "Aman Singh",
      "userId": "15069203180863103067"
     },
     "user_tz": -330
    },
    "id": "KP4rHf0aun9L",
    "outputId": "15ab7930-0dd2-4a65-f3cc-4670d59dbf5f"
   },
   "outputs": [
    {
     "data": {
      "text/plain": [
       "'hello'"
      ]
     },
     "execution_count": 31,
     "metadata": {},
     "output_type": "execute_result"
    }
   ],
   "source": [
    "\n",
    "'hello' or 'world'  # Python checks the first word and see that output is true then it prints first word"
   ]
  },
  {
   "cell_type": "code",
   "execution_count": 30,
   "metadata": {
    "colab": {
     "base_uri": "https://localhost:8080/",
     "height": 36
    },
    "executionInfo": {
     "elapsed": 582,
     "status": "ok",
     "timestamp": 1718032792121,
     "user": {
      "displayName": "Aman Singh",
      "userId": "15069203180863103067"
     },
     "user_tz": -330
    },
    "id": "HRe7_yrnu0Md",
    "outputId": "3b069f98-6b77-480c-a75e-e5dc231ade3b"
   },
   "outputs": [
    {
     "data": {
      "text/plain": [
       "''"
      ]
     },
     "execution_count": 30,
     "metadata": {},
     "output_type": "execute_result"
    }
   ],
   "source": [
    "'' and 'world'  # Empty string is FALSE and string is TRUE"
   ]
  },
  {
   "cell_type": "code",
   "execution_count": 35,
   "metadata": {
    "colab": {
     "base_uri": "https://localhost:8080/"
    },
    "executionInfo": {
     "elapsed": 3,
     "status": "ok",
     "timestamp": 1718032946932,
     "user": {
      "displayName": "Aman Singh",
      "userId": "15069203180863103067"
     },
     "user_tz": -330
    },
    "id": "KNFWdMrTu3Wd",
    "outputId": "9cdd2c9f-c41a-4105-ed10-f521f8ec27ca"
   },
   "outputs": [
    {
     "data": {
      "text/plain": [
       "True"
      ]
     },
     "execution_count": 35,
     "metadata": {},
     "output_type": "execute_result"
    }
   ],
   "source": [
    "not ''"
   ]
  },
  {
   "cell_type": "code",
   "execution_count": null,
   "metadata": {
    "colab": {
     "base_uri": "https://localhost:8080/"
    },
    "executionInfo": {
     "elapsed": 3,
     "status": "ok",
     "timestamp": 1718033010680,
     "user": {
      "displayName": "Aman Singh",
      "userId": "15069203180863103067"
     },
     "user_tz": -330
    },
    "id": "b1kPpgGwvlGt",
    "outputId": "faa2a769-4aa4-458f-fac1-770e0875a305"
   },
   "outputs": [
    {
     "name": "stdout",
     "output_type": "stream",
     "text": [
      "h\n",
      "e\n",
      "l\n",
      "l\n",
      "o\n"
     ]
    }
   ],
   "source": [
    "# Loops\n",
    "# for loops can itterate on strings\n",
    "\n",
    "for i in 'hello':\n",
    "  print(i)"
   ]
  },
  {
   "cell_type": "code",
   "execution_count": null,
   "metadata": {
    "colab": {
     "base_uri": "https://localhost:8080/"
    },
    "executionInfo": {
     "elapsed": 3,
     "status": "ok",
     "timestamp": 1718033078253,
     "user": {
      "displayName": "Aman Singh",
      "userId": "15069203180863103067"
     },
     "user_tz": -330
    },
    "id": "00A_Y3Bcv0lc",
    "outputId": "e4f8dfb3-ad24-4ea0-a012-03d572cbff8d"
   },
   "outputs": [
    {
     "name": "stdout",
     "output_type": "stream",
     "text": [
      "lko\n",
      "lko\n",
      "lko\n",
      "lko\n",
      "lko\n"
     ]
    }
   ],
   "source": [
    "for i in 'delhi':\n",
    "  print('lko') # prints lo 5 times"
   ]
  },
  {
   "cell_type": "code",
   "execution_count": 36,
   "metadata": {
    "colab": {
     "base_uri": "https://localhost:8080/"
    },
    "executionInfo": {
     "elapsed": 3,
     "status": "ok",
     "timestamp": 1718033099920,
     "user": {
      "displayName": "Aman Singh",
      "userId": "15069203180863103067"
     },
     "user_tz": -330
    },
    "id": "gY3TxcrxwFRc",
    "outputId": "58c9fe0f-422d-40fa-8808-494b3651a966"
   },
   "outputs": [
    {
     "data": {
      "text/plain": [
       "False"
      ]
     },
     "execution_count": 36,
     "metadata": {},
     "output_type": "execute_result"
    }
   ],
   "source": [
    "# Membership operators\n",
    "\n",
    "'L' in 'lko'   # case sensitive"
   ]
  },
  {
   "cell_type": "markdown",
   "metadata": {
    "id": "vrrsjVdBwWCl"
   },
   "source": [
    "**STRING FUNCTIONS**"
   ]
  },
  {
   "cell_type": "markdown",
   "metadata": {
    "id": "N8mgp_1m4Rnq"
   },
   "source": [
    "*Common Functions*\n",
    "\n",
    "\n",
    "*   len\n",
    "*   max\n",
    "*   min\n",
    "*   sorted\n",
    "\n",
    "Works on all list string tuple dictionary\n"
   ]
  },
  {
   "cell_type": "code",
   "execution_count": null,
   "metadata": {
    "colab": {
     "base_uri": "https://localhost:8080/"
    },
    "executionInfo": {
     "elapsed": 2,
     "status": "ok",
     "timestamp": 1718035668017,
     "user": {
      "displayName": "Aman Singh",
      "userId": "15069203180863103067"
     },
     "user_tz": -330
    },
    "id": "12NayeoewKer",
    "outputId": "07ce7671-72ca-4d09-c7ec-b017a3a35b73"
   },
   "outputs": [
    {
     "data": {
      "text/plain": [
       "11"
      ]
     },
     "execution_count": 44,
     "metadata": {},
     "output_type": "execute_result"
    }
   ],
   "source": [
    "len('hello world')  # length calculated with space"
   ]
  },
  {
   "cell_type": "code",
   "execution_count": null,
   "metadata": {
    "colab": {
     "base_uri": "https://localhost:8080/",
     "height": 36
    },
    "executionInfo": {
     "elapsed": 4,
     "status": "ok",
     "timestamp": 1718035699132,
     "user": {
      "displayName": "Aman Singh",
      "userId": "15069203180863103067"
     },
     "user_tz": -330
    },
    "id": "IO6LV_4GwYpr",
    "outputId": "e305a0b0-2a18-4dbd-d04a-59fb8661c4f0"
   },
   "outputs": [
    {
     "data": {
      "application/vnd.google.colaboratory.intrinsic+json": {
       "type": "string"
      },
      "text/plain": [
       "'w'"
      ]
     },
     "execution_count": 45,
     "metadata": {},
     "output_type": "execute_result"
    }
   ],
   "source": [
    "max('hello world')  # Maximum value on basis of ASCII value"
   ]
  },
  {
   "cell_type": "code",
   "execution_count": null,
   "metadata": {
    "colab": {
     "base_uri": "https://localhost:8080/",
     "height": 36
    },
    "executionInfo": {
     "elapsed": 629,
     "status": "ok",
     "timestamp": 1718035729555,
     "user": {
      "displayName": "Aman Singh",
      "userId": "15069203180863103067"
     },
     "user_tz": -330
    },
    "id": "ZnjseInQ6FJJ",
    "outputId": "38306110-292c-44c3-b79c-0743dee731ab"
   },
   "outputs": [
    {
     "data": {
      "application/vnd.google.colaboratory.intrinsic+json": {
       "type": "string"
      },
      "text/plain": [
       "' '"
      ]
     },
     "execution_count": 46,
     "metadata": {},
     "output_type": "execute_result"
    }
   ],
   "source": [
    "min('hello world') # Minimum value on basis of ASCII value"
   ]
  },
  {
   "cell_type": "code",
   "execution_count": 38,
   "metadata": {
    "colab": {
     "base_uri": "https://localhost:8080/"
    },
    "executionInfo": {
     "elapsed": 2,
     "status": "ok",
     "timestamp": 1718035853292,
     "user": {
      "displayName": "Aman Singh",
      "userId": "15069203180863103067"
     },
     "user_tz": -330
    },
    "id": "zt0-3pfM6MY5",
    "outputId": "69af7b35-9731-4448-b15d-8bba7dd74962"
   },
   "outputs": [
    {
     "data": {
      "text/plain": [
       "['w', 'r', 'o', 'o', 'l', 'l', 'l', 'h', 'e', 'd', ' ']"
      ]
     },
     "execution_count": 38,
     "metadata": {},
     "output_type": "execute_result"
    }
   ],
   "source": [
    "sorted('hello world') # Sorted on ASCII value and is represented in form of LIST\n",
    "\n",
    "#for descending order\n",
    "sorted('hello world',reverse = True)"
   ]
  },
  {
   "cell_type": "markdown",
   "metadata": {
    "id": "S--hI_Kq6tKL"
   },
   "source": [
    "**Functions only used in STRINGS**"
   ]
  },
  {
   "cell_type": "markdown",
   "metadata": {
    "id": "k8TU2nar60_S"
   },
   "source": [
    "*Capitalize/Title/Upper/Lower/Swapcase*"
   ]
  },
  {
   "cell_type": "code",
   "execution_count": 41,
   "metadata": {
    "colab": {
     "base_uri": "https://localhost:8080/",
     "height": 36
    },
    "executionInfo": {
     "elapsed": 5,
     "status": "ok",
     "timestamp": 1718035977971,
     "user": {
      "displayName": "Aman Singh",
      "userId": "15069203180863103067"
     },
     "user_tz": -330
    },
    "id": "OL4SqIKt6aIa",
    "outputId": "3af16088-555e-4a97-f253-e0bb37ff7d80"
   },
   "outputs": [
    {
     "data": {
      "text/plain": [
       "'Hello world'"
      ]
     },
     "execution_count": 41,
     "metadata": {},
     "output_type": "execute_result"
    }
   ],
   "source": [
    "# Capitalize  -> first letter capital\n",
    "\n",
    "s = 'hello world'\n",
    "s.capitalize()"
   ]
  },
  {
   "cell_type": "code",
   "execution_count": 42,
   "metadata": {
    "colab": {
     "base_uri": "https://localhost:8080/",
     "height": 36
    },
    "executionInfo": {
     "elapsed": 3,
     "status": "ok",
     "timestamp": 1718036008897,
     "user": {
      "displayName": "Aman Singh",
      "userId": "15069203180863103067"
     },
     "user_tz": -330
    },
    "id": "v4XxXc-I7JH6",
    "outputId": "85e949ad-a26d-4198-87af-6c0a087b4287"
   },
   "outputs": [
    {
     "data": {
      "text/plain": [
       "'Hello World'"
      ]
     },
     "execution_count": 42,
     "metadata": {},
     "output_type": "execute_result"
    }
   ],
   "source": [
    "s.title()  # Capital letter after every space"
   ]
  },
  {
   "cell_type": "code",
   "execution_count": 43,
   "metadata": {
    "colab": {
     "base_uri": "https://localhost:8080/",
     "height": 36
    },
    "executionInfo": {
     "elapsed": 4,
     "status": "ok",
     "timestamp": 1718036027228,
     "user": {
      "displayName": "Aman Singh",
      "userId": "15069203180863103067"
     },
     "user_tz": -330
    },
    "id": "oiNM0UBl7Mmo",
    "outputId": "0b642813-322a-49d2-c09b-e6fc4a42af07"
   },
   "outputs": [
    {
     "data": {
      "text/plain": [
       "'HELLO WORLD'"
      ]
     },
     "execution_count": 43,
     "metadata": {},
     "output_type": "execute_result"
    }
   ],
   "source": [
    "s.upper() # upper every character"
   ]
  },
  {
   "cell_type": "code",
   "execution_count": 44,
   "metadata": {
    "colab": {
     "base_uri": "https://localhost:8080/",
     "height": 36
    },
    "executionInfo": {
     "elapsed": 3,
     "status": "ok",
     "timestamp": 1718036044088,
     "user": {
      "displayName": "Aman Singh",
      "userId": "15069203180863103067"
     },
     "user_tz": -330
    },
    "id": "Qkwt2bge7VK3",
    "outputId": "b4e13da3-8bd2-4aaf-e2f6-9ba979fbbc66"
   },
   "outputs": [
    {
     "data": {
      "text/plain": [
       "'hello world'"
      ]
     },
     "execution_count": 44,
     "metadata": {},
     "output_type": "execute_result"
    }
   ],
   "source": [
    "s.lower() # lower every charater"
   ]
  },
  {
   "cell_type": "code",
   "execution_count": null,
   "metadata": {
    "colab": {
     "base_uri": "https://localhost:8080/",
     "height": 36
    },
    "executionInfo": {
     "elapsed": 3,
     "status": "ok",
     "timestamp": 1718036108252,
     "user": {
      "displayName": "Aman Singh",
      "userId": "15069203180863103067"
     },
     "user_tz": -330
    },
    "id": "CWz_NnjW7ZVW",
    "outputId": "36b6efcf-17c5-48df-985c-04851117baa3"
   },
   "outputs": [
    {
     "data": {
      "application/vnd.google.colaboratory.intrinsic+json": {
       "type": "string"
      },
      "text/plain": [
       "'hELo EOWeold'"
      ]
     },
     "execution_count": 56,
     "metadata": {},
     "output_type": "execute_result"
    }
   ],
   "source": [
    "'HelO eowEOLD'.swapcase()  # swaps upper and lower case"
   ]
  },
  {
   "cell_type": "markdown",
   "metadata": {
    "id": "QmYSwz5Y8IAh"
   },
   "source": [
    "*Count/Find/Index*"
   ]
  },
  {
   "cell_type": "code",
   "execution_count": 45,
   "metadata": {
    "colab": {
     "base_uri": "https://localhost:8080/"
    },
    "executionInfo": {
     "elapsed": 2,
     "status": "ok",
     "timestamp": 1718036308248,
     "user": {
      "displayName": "Aman Singh",
      "userId": "15069203180863103067"
     },
     "user_tz": -330
    },
    "id": "MZ6r0Hrh7lrL",
    "outputId": "11a4e841-a58c-4f6b-97fa-ca4cfcd378d2"
   },
   "outputs": [
    {
     "data": {
      "text/plain": [
       "3"
      ]
     },
     "execution_count": 45,
     "metadata": {},
     "output_type": "execute_result"
    }
   ],
   "source": [
    "'Mu naame is kartik'.count('a')"
   ]
  },
  {
   "cell_type": "code",
   "execution_count": 48,
   "metadata": {
    "colab": {
     "base_uri": "https://localhost:8080/"
    },
    "executionInfo": {
     "elapsed": 2,
     "status": "ok",
     "timestamp": 1718036413587,
     "user": {
      "displayName": "Aman Singh",
      "userId": "15069203180863103067"
     },
     "user_tz": -330
    },
    "id": "p7F2KETr8Hd7",
    "outputId": "1df7b421-966a-40b9-d32d-0dbe46b4f6f6"
   },
   "outputs": [
    {
     "data": {
      "text/plain": [
       "-1"
      ]
     },
     "execution_count": 48,
     "metadata": {},
     "output_type": "execute_result"
    }
   ],
   "source": [
    "'Mu naame is kartik'.find('z') # given -1 becauz no z in string"
   ]
  },
  {
   "cell_type": "code",
   "execution_count": 50,
   "metadata": {
    "colab": {
     "base_uri": "https://localhost:8080/"
    },
    "executionInfo": {
     "elapsed": 3,
     "status": "ok",
     "timestamp": 1718036389012,
     "user": {
      "displayName": "Aman Singh",
      "userId": "15069203180863103067"
     },
     "user_tz": -330
    },
    "id": "fcjMJq9_8eUX",
    "outputId": "f984e0d9-ddca-4bca-f713-018f7c563312"
   },
   "outputs": [
    {
     "data": {
      "text/plain": [
       "9"
      ]
     },
     "execution_count": 50,
     "metadata": {},
     "output_type": "execute_result"
    }
   ],
   "source": [
    "'Mu naame is kartik'.index('is') # index doesn't give -1 while find gives -1"
   ]
  },
  {
   "cell_type": "code",
   "execution_count": null,
   "metadata": {
    "colab": {
     "base_uri": "https://localhost:8080/"
    },
    "executionInfo": {
     "elapsed": 3,
     "status": "ok",
     "timestamp": 1718036432968,
     "user": {
      "displayName": "Aman Singh",
      "userId": "15069203180863103067"
     },
     "user_tz": -330
    },
    "id": "p4hWmc5v8nq5",
    "outputId": "7985acc6-2a1d-4434-fb7e-5bb0c49e0239"
   },
   "outputs": [
    {
     "data": {
      "text/plain": [
       "False"
      ]
     },
     "execution_count": 65,
     "metadata": {},
     "output_type": "execute_result"
    }
   ],
   "source": [
    "'Mu naame is kartik'.endswith('a')"
   ]
  },
  {
   "cell_type": "code",
   "execution_count": null,
   "metadata": {
    "colab": {
     "base_uri": "https://localhost:8080/"
    },
    "executionInfo": {
     "elapsed": 1,
     "status": "ok",
     "timestamp": 1718036451333,
     "user": {
      "displayName": "Aman Singh",
      "userId": "15069203180863103067"
     },
     "user_tz": -330
    },
    "id": "ilQNXIR984Kp",
    "outputId": "d9b28be1-8082-40bd-a4d1-27193a11993b"
   },
   "outputs": [
    {
     "data": {
      "text/plain": [
       "False"
      ]
     },
     "execution_count": 66,
     "metadata": {},
     "output_type": "execute_result"
    }
   ],
   "source": [
    "'Mu naame is kartik'.startswith('a')"
   ]
  },
  {
   "cell_type": "markdown",
   "metadata": {
    "id": "axefK7Pl8-6x"
   },
   "source": [
    "*FORMAT*"
   ]
  },
  {
   "cell_type": "code",
   "execution_count": null,
   "metadata": {
    "colab": {
     "base_uri": "https://localhost:8080/",
     "height": 36
    },
    "executionInfo": {
     "elapsed": 509,
     "status": "ok",
     "timestamp": 1718036604051,
     "user": {
      "displayName": "Aman Singh",
      "userId": "15069203180863103067"
     },
     "user_tz": -330
    },
    "id": "9adVpb9D88qp",
    "outputId": "84a59472-a1b8-411d-cbbb-4c8f12e96097"
   },
   "outputs": [
    {
     "data": {
      "application/vnd.google.colaboratory.intrinsic+json": {
       "type": "string"
      },
      "text/plain": [
       "'Hi my name is kartik and I am a male'"
      ]
     },
     "execution_count": 71,
     "metadata": {},
     "output_type": "execute_result"
    }
   ],
   "source": [
    "name = 'kartik'\n",
    "gender = 'male'\n",
    "\n",
    "'Hi my name is {} and I am a {}'.format(name,gender) # can also position with numbers"
   ]
  },
  {
   "cell_type": "markdown",
   "metadata": {
    "id": "cqIF6CPy9jrE"
   },
   "source": [
    "*isalnum / isalpha / isdigit / isidentifier*"
   ]
  },
  {
   "cell_type": "code",
   "execution_count": null,
   "metadata": {
    "colab": {
     "base_uri": "https://localhost:8080/"
    },
    "executionInfo": {
     "elapsed": 2,
     "status": "ok",
     "timestamp": 1718037075923,
     "user": {
      "displayName": "Aman Singh",
      "userId": "15069203180863103067"
     },
     "user_tz": -330
    },
    "id": "9E3hZu1M9AiX",
    "outputId": "d73f9adb-563a-4122-87b5-97838eb6ad09"
   },
   "outputs": [
    {
     "data": {
      "text/plain": [
       "True"
      ]
     },
     "execution_count": 72,
     "metadata": {},
     "output_type": "execute_result"
    }
   ],
   "source": [
    "# isalnum\n",
    "\n",
    "'kartik14'.isalnum() # made with alphabet and numbers"
   ]
  },
  {
   "cell_type": "code",
   "execution_count": null,
   "metadata": {
    "colab": {
     "base_uri": "https://localhost:8080/"
    },
    "executionInfo": {
     "elapsed": 862,
     "status": "ok",
     "timestamp": 1718037179941,
     "user": {
      "displayName": "Aman Singh",
      "userId": "15069203180863103067"
     },
     "user_tz": -330
    },
    "id": "kyKX-ZrT-6oJ",
    "outputId": "10ccb5cb-d0ab-44c5-ffb6-31c4d5ddb998"
   },
   "outputs": [
    {
     "data": {
      "text/plain": [
       "False"
      ]
     },
     "execution_count": 73,
     "metadata": {},
     "output_type": "execute_result"
    }
   ],
   "source": [
    "'kartik14'.isalpha() # made with alphabet only"
   ]
  },
  {
   "cell_type": "code",
   "execution_count": null,
   "metadata": {
    "colab": {
     "base_uri": "https://localhost:8080/"
    },
    "executionInfo": {
     "elapsed": 1008,
     "status": "ok",
     "timestamp": 1718037217373,
     "user": {
      "displayName": "Aman Singh",
      "userId": "15069203180863103067"
     },
     "user_tz": -330
    },
    "id": "Izt-nHza_uVv",
    "outputId": "c56c71a2-f31f-458e-cd7a-03d293bd2096"
   },
   "outputs": [
    {
     "data": {
      "text/plain": [
       "False"
      ]
     },
     "execution_count": 75,
     "metadata": {},
     "output_type": "execute_result"
    }
   ],
   "source": [
    "'kartik14'.isdigit() # made with digits"
   ]
  },
  {
   "cell_type": "code",
   "execution_count": 53,
   "metadata": {
    "colab": {
     "base_uri": "https://localhost:8080/"
    },
    "executionInfo": {
     "elapsed": 743,
     "status": "ok",
     "timestamp": 1718037239076,
     "user": {
      "displayName": "Aman Singh",
      "userId": "15069203180863103067"
     },
     "user_tz": -330
    },
    "id": "6puI39iG_zSo",
    "outputId": "6d3cd385-8c9e-41a7-d96d-5335279f127a"
   },
   "outputs": [
    {
     "data": {
      "text/plain": [
       "True"
      ]
     },
     "execution_count": 53,
     "metadata": {},
     "output_type": "execute_result"
    }
   ],
   "source": [
    "'kartik_14'.isidentifier()"
   ]
  },
  {
   "cell_type": "markdown",
   "metadata": {
    "id": "GlK-3_jg_96x"
   },
   "source": [
    "*SPLIT/JOIN*"
   ]
  },
  {
   "cell_type": "code",
   "execution_count": 54,
   "metadata": {
    "colab": {
     "base_uri": "https://localhost:8080/"
    },
    "executionInfo": {
     "elapsed": 400,
     "status": "ok",
     "timestamp": 1718037350706,
     "user": {
      "displayName": "Aman Singh",
      "userId": "15069203180863103067"
     },
     "user_tz": -330
    },
    "id": "tjCNcy1z_8_G",
    "outputId": "c4390f1d-bbaf-4c2a-e058-902f67620ee2"
   },
   "outputs": [
    {
     "data": {
      "text/plain": [
       "['my name ', ' kartik']"
      ]
     },
     "execution_count": 54,
     "metadata": {},
     "output_type": "execute_result"
    }
   ],
   "source": [
    "'my name is kartik'.split('is') # wherevere i came it split # output in form of list"
   ]
  },
  {
   "cell_type": "code",
   "execution_count": 56,
   "metadata": {
    "colab": {
     "base_uri": "https://localhost:8080/",
     "height": 36
    },
    "executionInfo": {
     "elapsed": 447,
     "status": "ok",
     "timestamp": 1718037513989,
     "user": {
      "displayName": "Aman Singh",
      "userId": "15069203180863103067"
     },
     "user_tz": -330
    },
    "id": "4MJ7b0BZAA1m",
    "outputId": "cd606a3c-b396-470d-8a26-d122e9b7ab2e"
   },
   "outputs": [
    {
     "data": {
      "text/plain": [
       "'hi me kartik'"
      ]
     },
     "execution_count": 56,
     "metadata": {},
     "output_type": "execute_result"
    }
   ],
   "source": [
    "\" \".join(['hi','me','kartik'])"
   ]
  },
  {
   "cell_type": "markdown",
   "metadata": {
    "id": "CpSx5HkaBGL4"
   },
   "source": [
    "*Replace*"
   ]
  },
  {
   "cell_type": "code",
   "execution_count": null,
   "metadata": {
    "colab": {
     "base_uri": "https://localhost:8080/",
     "height": 36
    },
    "executionInfo": {
     "elapsed": 496,
     "status": "ok",
     "timestamp": 1718037592441,
     "user": {
      "displayName": "Aman Singh",
      "userId": "15069203180863103067"
     },
     "user_tz": -330
    },
    "id": "w-D5sPUKBAJo",
    "outputId": "a79941a0-bf4d-42f8-d9c6-703b10f731fb"
   },
   "outputs": [
    {
     "data": {
      "application/vnd.google.colaboratory.intrinsic+json": {
       "type": "string"
      },
      "text/plain": [
       "'my naam is kartik'"
      ]
     },
     "execution_count": 82,
     "metadata": {},
     "output_type": "execute_result"
    }
   ],
   "source": [
    "'my name is kartik'.replace('name','naam')"
   ]
  },
  {
   "cell_type": "markdown",
   "metadata": {
    "id": "6XolQGVJBWsR"
   },
   "source": [
    "*STRIP*"
   ]
  },
  {
   "cell_type": "code",
   "execution_count": 61,
   "metadata": {
    "colab": {
     "base_uri": "https://localhost:8080/",
     "height": 36
    },
    "executionInfo": {
     "elapsed": 784,
     "status": "ok",
     "timestamp": 1718037662354,
     "user": {
      "displayName": "Aman Singh",
      "userId": "15069203180863103067"
     },
     "user_tz": -330
    },
    "id": "I3ZTeVE2BIWG",
    "outputId": "696aaa82-1834-4b91-a9a7-4155b63b83a8"
   },
   "outputs": [
    {
     "data": {
      "text/plain": [
       "'my name is kartik'"
      ]
     },
     "execution_count": 61,
     "metadata": {},
     "output_type": "execute_result"
    }
   ],
   "source": [
    "'my name is kartik                               '.strip() # remove unnecessary space"
   ]
  },
  {
   "cell_type": "code",
   "execution_count": 62,
   "metadata": {},
   "outputs": [
    {
     "data": {
      "text/plain": [
       "'my name        is kartik'"
      ]
     },
     "execution_count": 62,
     "metadata": {},
     "output_type": "execute_result"
    }
   ],
   "source": [
    "'my name        is kartik'.strip()      # it will not remove from middle just from start and last (in middle it takes space as a special character)"
   ]
  },
  {
   "cell_type": "markdown",
   "metadata": {
    "id": "Iz3LU4Yv0MWX"
   },
   "source": [
    "**Example Programs**"
   ]
  },
  {
   "cell_type": "code",
   "execution_count": 67,
   "metadata": {
    "colab": {
     "base_uri": "https://localhost:8080/"
    },
    "executionInfo": {
     "elapsed": 12354,
     "status": "ok",
     "timestamp": 1718084865018,
     "user": {
      "displayName": "Aman Singh",
      "userId": "15069203180863103067"
     },
     "user_tz": -330
    },
    "id": "EQHfG-dE0Qfh",
    "outputId": "f42a705f-d94e-4949-9cba-66800586f275"
   },
   "outputs": [
    {
     "name": "stdin",
     "output_type": "stream",
     "text": [
      "Enter a string hello my name is kartik\n"
     ]
    },
    {
     "name": "stdout",
     "output_type": "stream",
     "text": [
      "23\n",
      "23\n"
     ]
    }
   ],
   "source": [
    "# Find the length of a given string without using the len() function\n",
    "\n",
    "s = input('Enter a string')\n",
    "length = 0\n",
    "for i in (s):\n",
    "  length += 1\n",
    "\n",
    "print(length)\n",
    "print(len(s))"
   ]
  },
  {
   "cell_type": "code",
   "execution_count": 9,
   "metadata": {
    "colab": {
     "base_uri": "https://localhost:8080/"
    },
    "executionInfo": {
     "elapsed": 14232,
     "status": "ok",
     "timestamp": 1718085568881,
     "user": {
      "displayName": "Aman Singh",
      "userId": "15069203180863103067"
     },
     "user_tz": -330
    },
    "id": "7M34X0qI03Ui",
    "outputId": "419a9460-487d-4020-9d4a-dd45f724e81b"
   },
   "outputs": [
    {
     "name": "stdout",
     "output_type": "stream",
     "text": [
      "Enter a emailkk14kartikkumar@gmail.com\n",
      "kk14kartikkumar\n"
     ]
    }
   ],
   "source": [
    "# Extract username from a given email.\n",
    "# Eg. if the email is kk14kartikkumar@gmail.com\n",
    "# then username should be kk14kartikkumar\n",
    "\n",
    "s = input('Enter a email')\n",
    "pos = s.index('@')\n",
    "\n",
    "print(s[0:pos])\n"
   ]
  },
  {
   "cell_type": "code",
   "execution_count": 12,
   "metadata": {
    "colab": {
     "base_uri": "https://localhost:8080/"
    },
    "executionInfo": {
     "elapsed": 18888,
     "status": "ok",
     "timestamp": 1718087029446,
     "user": {
      "displayName": "Aman Singh",
      "userId": "15069203180863103067"
     },
     "user_tz": -330
    },
    "id": "cqORchTt3d7s",
    "outputId": "6657bcf3-948f-4388-cc1f-9c9e9a49bd52"
   },
   "outputs": [
    {
     "name": "stdout",
     "output_type": "stream",
     "text": [
      "Enter the stringkartik kartik akaska ksdnjfjhsldfhklsabff\n",
      "The frequency u wanta\n",
      "The frequency is 6\n"
     ]
    }
   ],
   "source": [
    "# Count the frequency of a particular character in a provided string\n",
    "# Eg 'Hello how are you' is the string, the frequency of h in this string is 2.\n",
    "\n",
    "s = input('Enter the string')\n",
    "\n",
    "c = input('The frequency u want')\n",
    "# s.count(c) # for one line code\n",
    "counter = 0\n",
    "\n",
    "for i in (s):\n",
    "  if i == c:\n",
    "    counter += 1\n",
    "\n",
    "print('The frequency is',counter)\n"
   ]
  },
  {
   "cell_type": "code",
   "execution_count": 13,
   "metadata": {
    "colab": {
     "base_uri": "https://localhost:8080/"
    },
    "executionInfo": {
     "elapsed": 220813,
     "status": "ok",
     "timestamp": 1718087751937,
     "user": {
      "displayName": "Aman Singh",
      "userId": "15069203180863103067"
     },
     "user_tz": -330
    },
    "id": "LIdz4MS1890s",
    "outputId": "45f93dd5-9fed-4c23-f658-2ba46d916988"
   },
   "outputs": [
    {
     "name": "stdout",
     "output_type": "stream",
     "text": [
      "Enter a stringkartik is very good\n",
      "the char u need to removeo\n",
      "kartik is very gd\n"
     ]
    }
   ],
   "source": [
    " # Write a program which can remove a particular from a string\n",
    "\n",
    "s = input('Enter a string')\n",
    "r = input('the char u need to remove')\n",
    "result = ''\n",
    "for i in (s):\n",
    "  if i != r:\n",
    "    result += i\n",
    "\n",
    "print(result)\n",
    "\n"
   ]
  },
  {
   "cell_type": "code",
   "execution_count": 77,
   "metadata": {
    "colab": {
     "base_uri": "https://localhost:8080/"
    },
    "executionInfo": {
     "elapsed": 24700,
     "status": "ok",
     "timestamp": 1718088947054,
     "user": {
      "displayName": "Aman Singh",
      "userId": "15069203180863103067"
     },
     "user_tz": -330
    },
    "id": "SojKEujo_zWF",
    "outputId": "850a3b99-089a-4910-d002-e56c5ca7c55e"
   },
   "outputs": [
    {
     "name": "stdin",
     "output_type": "stream",
     "text": [
      "Enter a string RACECAR\n"
     ]
    },
    {
     "name": "stdout",
     "output_type": "stream",
     "text": [
      "Palindrome\n"
     ]
    }
   ],
   "source": [
    "# Write a program that can check whether a string is palindrome or not.\n",
    "\n",
    "s = input('Enter a string')\n",
    "#r = s[::-1]\n",
    "#if s == r:\n",
    " # print('Palindrome string')\n",
    "#else:\n",
    " # print('Not a palindrome')\n",
    "flag = True\n",
    "for i in range (0,len(s)//2):\n",
    "  if s[i] != s[len(s)-i-1]:\n",
    "    flag = False\n",
    "    break\n",
    "\n",
    "if flag == False:\n",
    "    print('Not a Palindrome')\n",
    "else:\n",
    "    print('Palindrome')"
   ]
  },
  {
   "cell_type": "code",
   "execution_count": 85,
   "metadata": {
    "colab": {
     "base_uri": "https://localhost:8080/"
    },
    "executionInfo": {
     "elapsed": 7678,
     "status": "ok",
     "timestamp": 1718089943473,
     "user": {
      "displayName": "Aman Singh",
      "userId": "15069203180863103067"
     },
     "user_tz": -330
    },
    "id": "4ggcY92TB7I7",
    "outputId": "29688468-fafb-4445-9dc9-f4c935d7fa57"
   },
   "outputs": [
    {
     "name": "stdin",
     "output_type": "stream",
     "text": [
      "Enter the string hi hello how are u\n"
     ]
    },
    {
     "name": "stdout",
     "output_type": "stream",
     "text": [
      "5\n"
     ]
    }
   ],
   "source": [
    "# Write a program to count the number of words in string without split()\n",
    "\n",
    "s = input('Enter the string')\n",
    "r = s+' '\n",
    "counter = 0\n",
    "for i in (r):\n",
    "  if i == ' ':\n",
    "    counter += 1\n",
    "print(counter)\n"
   ]
  },
  {
   "cell_type": "code",
   "execution_count": 25,
   "metadata": {
    "colab": {
     "base_uri": "https://localhost:8080/"
    },
    "executionInfo": {
     "elapsed": 5831,
     "status": "ok",
     "timestamp": 1718092130135,
     "user": {
      "displayName": "Aman Singh",
      "userId": "15069203180863103067"
     },
     "user_tz": -330
    },
    "id": "zt--nQq7HKmX",
    "outputId": "8be15afb-e2b0-4f7b-8463-b9649b8f5c4c"
   },
   "outputs": [
    {
     "name": "stdout",
     "output_type": "stream",
     "text": [
      "Enter the stringhi how are you\n",
      "Hi How Are You "
     ]
    }
   ],
   "source": [
    "# Write a program to convert a string to title case without using the title()\\\n",
    "\n",
    "s = input('Enter the string')\n",
    "\n",
    "for i in s.split():\n",
    "  print(i[0].upper() + i[1:].lower(),end = ' ')"
   ]
  },
  {
   "cell_type": "code",
   "execution_count": 27,
   "metadata": {
    "colab": {
     "base_uri": "https://localhost:8080/"
    },
    "executionInfo": {
     "elapsed": 2964,
     "status": "ok",
     "timestamp": 1718093241386,
     "user": {
      "displayName": "Aman Singh",
      "userId": "15069203180863103067"
     },
     "user_tz": -330
    },
    "id": "dSf_uPSSMkVT",
    "outputId": "3bf73808-b63b-4387-e404-3dedd02ff11f"
   },
   "outputs": [
    {
     "name": "stdout",
     "output_type": "stream",
     "text": [
      "enter the number66544321\n",
      "66544321\n",
      "<class 'str'>\n"
     ]
    }
   ],
   "source": [
    "# Write a program that can convert an integer to string\n",
    "\n",
    "number = int(input('enter the number'))\n",
    "\n",
    "digits = '0123456789' # this is used for printing the string\n",
    "result = ''\n",
    "while number != 0:\n",
    "  result = digits[number % 10] + result\n",
    "  number = number//10\n",
    "\n",
    "print(result)\n",
    "print(type(result))"
   ]
  }
 ],
 "metadata": {
  "colab": {
   "authorship_tag": "ABX9TyNBIYTanE5GXTiBr2LPAe3C",
   "provenance": []
  },
  "kernelspec": {
   "display_name": "Python 3 (ipykernel)",
   "language": "python",
   "name": "python3"
  },
  "language_info": {
   "codemirror_mode": {
    "name": "ipython",
    "version": 3
   },
   "file_extension": ".py",
   "mimetype": "text/x-python",
   "name": "python",
   "nbconvert_exporter": "python",
   "pygments_lexer": "ipython3",
   "version": "3.11.7"
  }
 },
 "nbformat": 4,
 "nbformat_minor": 4
}
