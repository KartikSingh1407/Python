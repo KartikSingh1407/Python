{
 "cells": [
  {
   "cell_type": "markdown",
   "metadata": {
    "id": "yqLLqLyj4r0z"
   },
   "source": [
    "**Class Relationships**\n",
    "\n",
    "- Aggregation\n",
    "- Inheritance"
   ]
  },
  {
   "cell_type": "markdown",
   "metadata": {
    "id": "f69fS6U45Hqr"
   },
   "source": [
    "**Aggregation(Has-A relationship)**"
   ]
  },
  {
   "cell_type": "code",
   "execution_count": 1,
   "metadata": {
    "colab": {
     "base_uri": "https://localhost:8080/"
    },
    "id": "5kx2nO_m5GdR",
    "outputId": "334c7266-876b-4569-e3af-d9bdb824a0e4"
   },
   "outputs": [
    {
     "name": "stdout",
     "output_type": "stream",
     "text": [
      "Lucknow 226028 UP\n",
      "bangalore 111111 karnataka\n"
     ]
    }
   ],
   "source": [
    "# example\n",
    "class Customer:\n",
    "\n",
    "  def __init__(self,name,gender,address):\n",
    "    self.name = name\n",
    "    self.gender = gender\n",
    "    self.address = address\n",
    "\n",
    "  def print_address(self):\n",
    "    print(self.address._Address__city,self.address.pin,self.address.state)\n",
    "\n",
    "  def edit_profile(self,new_name,new_city,new_pin,new_state):\n",
    "    self.name = new_name\n",
    "    self.address.edit_address(new_city,new_pin,new_state)\n",
    "\n",
    "class Address:\n",
    "\n",
    "  def __init__(self,city,pin,state):\n",
    "      self.__city = city\n",
    "      self.pin = pin\n",
    "      self.state = state\n",
    "\n",
    "  def get_city(self):\n",
    "    return self.__city\n",
    "\n",
    "  def edit_address(self,new_city,new_pin,new_state):\n",
    "    self.__city = new_city\n",
    "    self.pin = new_pin\n",
    "    self.state = new_state\n",
    "\n",
    "add1 = Address('Lucknow',226028,'UP')\n",
    "cust = Customer('kartik','male',add1)\n",
    "\n",
    "cust.print_address()\n",
    "\n",
    "cust.edit_profile('kartik 2','bangalore',111111,'karnataka')\n",
    "cust.print_address()\n",
    "# method example\n",
    "# what about private attribute"
   ]
  },
  {
   "cell_type": "markdown",
   "metadata": {
    "id": "iwHzHwcQ5L94"
   },
   "source": [
    "**Aggregation class diagram**"
   ]
  },
  {
   "cell_type": "code",
   "execution_count": 2,
   "metadata": {
    "id": "N8leEVkv5PQ1"
   },
   "outputs": [],
   "source": [
    "# Video OOP 3 pe time stamp --> 30:32"
   ]
  },
  {
   "cell_type": "markdown",
   "metadata": {
    "id": "ftkzTkLv64OS"
   },
   "source": [
    "**Inheritance**\n",
    "\n",
    "- What is inheritance\n",
    "- Example\n",
    "- What gets inherited?"
   ]
  },
  {
   "cell_type": "code",
   "execution_count": null,
   "metadata": {
    "id": "uSTDcEyh65cu"
   },
   "outputs": [],
   "source": [
    "# Inheritance and it's benefits"
   ]
  },
  {
   "cell_type": "code",
   "execution_count": 6,
   "metadata": {
    "colab": {
     "base_uri": "https://localhost:8080/"
    },
    "id": "k_BCUsIbPHud",
    "outputId": "ace03f99-3335-4da0-9ab6-37d6f980f637"
   },
   "outputs": [
    {
     "name": "stdout",
     "output_type": "stream",
     "text": [
      "kartik\n",
      "login\n",
      "enroll not in the course\n"
     ]
    }
   ],
   "source": [
    "# Example\n",
    "\n",
    "# parent\n",
    "class User:\n",
    "\n",
    "  def __init__(self):\n",
    "    self.name = 'kartik'\n",
    "    self.gender = 'male'\n",
    "\n",
    "  def login(self):\n",
    "    print('login')\n",
    "\n",
    "# child\n",
    "class Student(User):\n",
    "\n",
    "  def enroll(self):\n",
    "    print('enroll not in the course')\n",
    "\n",
    "u = User()\n",
    "s = Student()\n",
    "\n",
    "print(s.name)\n",
    "s.login()\n",
    "s.enroll()"
   ]
  },
  {
   "cell_type": "code",
   "execution_count": 7,
   "metadata": {
    "id": "Nh2Ug7mZSJMd"
   },
   "outputs": [],
   "source": [
    "# Class diagram\n",
    "# Video time stamp --> 53:05"
   ]
  },
  {
   "cell_type": "markdown",
   "metadata": {
    "id": "CJEPRGHGPY9n"
   },
   "source": [
    "**What gets inherited?**\n",
    "\n",
    "- Constructor\n",
    "- Non Private Attributes\n",
    "- Non Private Methods"
   ]
  },
  {
   "cell_type": "code",
   "execution_count": 8,
   "metadata": {
    "colab": {
     "base_uri": "https://localhost:8080/"
    },
    "id": "VGpL2aWUPX-C",
    "outputId": "5114dda8-4e7a-45ea-fd82-ce6e968cba82"
   },
   "outputs": [
    {
     "name": "stdout",
     "output_type": "stream",
     "text": [
      "Inside phone constructor\n",
      "Buying a phone\n"
     ]
    }
   ],
   "source": [
    "# constructor example\n",
    "\n",
    "class Phone:\n",
    "    def __init__(self, price, brand, camera):\n",
    "        print (\"Inside phone constructor\")\n",
    "        self.price = price\n",
    "        self.brand = brand\n",
    "        self.camera = camera\n",
    "\n",
    "    def buy(self):\n",
    "        print (\"Buying a phone\")\n",
    "\n",
    "class SmartPhone(Phone):\n",
    "    pass\n",
    "\n",
    "s=SmartPhone(20000, \"Apple\", 13)\n",
    "s.buy()"
   ]
  },
  {
   "cell_type": "code",
   "execution_count": 9,
   "metadata": {
    "colab": {
     "base_uri": "https://localhost:8080/",
     "height": 223
    },
    "id": "PMjCWA3wP_s-",
    "outputId": "9cf6eca4-444a-48ee-9a55-82eeca73e4e2"
   },
   "outputs": [
    {
     "name": "stdout",
     "output_type": "stream",
     "text": [
      "Inside SmartPhone constructor\n"
     ]
    },
    {
     "ename": "AttributeError",
     "evalue": "'SmartPhone' object has no attribute 'brand'",
     "output_type": "error",
     "traceback": [
      "\u001b[1;31m---------------------------------------------------------------------------\u001b[0m",
      "\u001b[1;31mAttributeError\u001b[0m                            Traceback (most recent call last)",
      "Cell \u001b[1;32mIn[9], line 17\u001b[0m\n\u001b[0;32m     14\u001b[0m         \u001b[38;5;28mprint\u001b[39m (\u001b[38;5;124m\"\u001b[39m\u001b[38;5;124mInside SmartPhone constructor\u001b[39m\u001b[38;5;124m\"\u001b[39m)\n\u001b[0;32m     16\u001b[0m s\u001b[38;5;241m=\u001b[39mSmartPhone(\u001b[38;5;124m\"\u001b[39m\u001b[38;5;124mAndroid\u001b[39m\u001b[38;5;124m\"\u001b[39m, \u001b[38;5;241m2\u001b[39m)\n\u001b[1;32m---> 17\u001b[0m s\u001b[38;5;241m.\u001b[39mbrand\n",
      "\u001b[1;31mAttributeError\u001b[0m: 'SmartPhone' object has no attribute 'brand'"
     ]
    }
   ],
   "source": [
    "# constructor example 2\n",
    "\n",
    "class Phone:\n",
    "    def __init__(self, price, brand, camera):\n",
    "        print (\"Inside phone constructor\")\n",
    "        self.__price = price\n",
    "        self.brand = brand\n",
    "        self.camera = camera\n",
    "\n",
    "class SmartPhone(Phone):\n",
    "    def __init__(self, os, ram):\n",
    "        self.os = os\n",
    "        self.ram = ram\n",
    "        print (\"Inside SmartPhone constructor\")\n",
    "\n",
    "s=SmartPhone(\"Android\", 2)\n",
    "s.brand"
   ]
  },
  {
   "cell_type": "code",
   "execution_count": 10,
   "metadata": {
    "colab": {
     "base_uri": "https://localhost:8080/"
    },
    "id": "OBJEbXw3QNs5",
    "outputId": "a6a7aa97-7b04-4f07-959f-290c1c82d2cd"
   },
   "outputs": [
    {
     "name": "stdout",
     "output_type": "stream",
     "text": [
      "Inside phone constructor\n",
      "20000\n"
     ]
    }
   ],
   "source": [
    "# child can't access private members of the class\n",
    "\n",
    "class Phone:\n",
    "    def __init__(self, price, brand, camera):\n",
    "        print (\"Inside phone constructor\")\n",
    "        self.__price = price\n",
    "        self.brand = brand\n",
    "        self.camera = camera\n",
    "\n",
    "    #getter\n",
    "    def show(self):\n",
    "        print (self.__price)\n",
    "\n",
    "class SmartPhone(Phone):\n",
    "    def check(self):\n",
    "        print(self.__price)\n",
    "\n",
    "s=SmartPhone(20000, \"Apple\", 13)\n",
    "s.show()"
   ]
  },
  {
   "cell_type": "code",
   "execution_count": 11,
   "metadata": {
    "colab": {
     "base_uri": "https://localhost:8080/"
    },
    "id": "4ehYsT2BS5Cm",
    "outputId": "5e27f6d1-0f60-4246-fd59-977e41dfd4f9"
   },
   "outputs": [
    {
     "name": "stdout",
     "output_type": "stream",
     "text": [
      "100\n",
      "This is in child class\n"
     ]
    }
   ],
   "source": [
    "class Parent:\n",
    "\n",
    "    def __init__(self,num):\n",
    "        self.__num=num\n",
    "\n",
    "    def get_num(self):\n",
    "        return self.__num\n",
    "\n",
    "class Child(Parent):\n",
    "\n",
    "    def show(self):\n",
    "        print(\"This is in child class\")\n",
    "\n",
    "son=Child(100)\n",
    "print(son.get_num())\n",
    "son.show()"
   ]
  },
  {
   "cell_type": "code",
   "execution_count": 12,
   "metadata": {
    "colab": {
     "base_uri": "https://localhost:8080/",
     "height": 348
    },
    "id": "__jK3DNZS7-g",
    "outputId": "1cb66ea1-97e5-4589-d792-ec804c3ddb81"
   },
   "outputs": [
    {
     "ename": "AttributeError",
     "evalue": "'Child' object has no attribute '_Parent__num'",
     "output_type": "error",
     "traceback": [
      "\u001b[1;31m---------------------------------------------------------------------------\u001b[0m",
      "\u001b[1;31mAttributeError\u001b[0m                            Traceback (most recent call last)",
      "Cell \u001b[1;32mIn[12], line 18\u001b[0m\n\u001b[0;32m     15\u001b[0m         \u001b[38;5;28;01mreturn\u001b[39;00m \u001b[38;5;28mself\u001b[39m\u001b[38;5;241m.\u001b[39m__val\n\u001b[0;32m     17\u001b[0m son\u001b[38;5;241m=\u001b[39mChild(\u001b[38;5;241m100\u001b[39m,\u001b[38;5;241m10\u001b[39m)\n\u001b[1;32m---> 18\u001b[0m \u001b[38;5;28mprint\u001b[39m(\u001b[38;5;124m\"\u001b[39m\u001b[38;5;124mParent: Num:\u001b[39m\u001b[38;5;124m\"\u001b[39m,son\u001b[38;5;241m.\u001b[39mget_num())\n\u001b[0;32m     19\u001b[0m \u001b[38;5;28mprint\u001b[39m(\u001b[38;5;124m\"\u001b[39m\u001b[38;5;124mChild: Val:\u001b[39m\u001b[38;5;124m\"\u001b[39m,son\u001b[38;5;241m.\u001b[39mget_val())\n",
      "Cell \u001b[1;32mIn[12], line 7\u001b[0m, in \u001b[0;36mParent.get_num\u001b[1;34m(self)\u001b[0m\n\u001b[0;32m      6\u001b[0m \u001b[38;5;28;01mdef\u001b[39;00m \u001b[38;5;21mget_num\u001b[39m(\u001b[38;5;28mself\u001b[39m):\n\u001b[1;32m----> 7\u001b[0m     \u001b[38;5;28;01mreturn\u001b[39;00m \u001b[38;5;28mself\u001b[39m\u001b[38;5;241m.\u001b[39m__num\n",
      "\u001b[1;31mAttributeError\u001b[0m: 'Child' object has no attribute '_Parent__num'"
     ]
    }
   ],
   "source": [
    "class Parent:\n",
    "\n",
    "    def __init__(self,num):\n",
    "        self.__num=num\n",
    "\n",
    "    def get_num(self):\n",
    "        return self.__num\n",
    "\n",
    "class Child(Parent):\n",
    "\n",
    "    def __init__(self,val,num):\n",
    "        self.__val=val\n",
    "\n",
    "    def get_val(self):\n",
    "        return self.__val\n",
    "\n",
    "son=Child(100,10)\n",
    "print(\"Parent: Num:\",son.get_num())\n",
    "print(\"Child: Val:\",son.get_val())"
   ]
  },
  {
   "cell_type": "code",
   "execution_count": null,
   "metadata": {
    "colab": {
     "base_uri": "https://localhost:8080/"
    },
    "id": "nyRDS-91TJA_",
    "outputId": "ca0f5671-e73a-467b-8c96-45f825e88eaa"
   },
   "outputs": [
    {
     "name": "stdout",
     "output_type": "stream",
     "text": [
      "class A : 200\n"
     ]
    }
   ],
   "source": [
    "class A:\n",
    "    def __init__(self):\n",
    "        self.var1=100\n",
    "\n",
    "    def display1(self,var1):\n",
    "        print(\"class A :\", self.var1)\n",
    "class B(A):\n",
    "\n",
    "    def display2(self,var1):\n",
    "        print(\"class B :\", self.var1)\n",
    "\n",
    "obj=B()\n",
    "obj.display1(200)"
   ]
  },
  {
   "cell_type": "code",
   "execution_count": 13,
   "metadata": {
    "colab": {
     "base_uri": "https://localhost:8080/"
    },
    "id": "EgDguVtCTlsY",
    "outputId": "e9a17cfc-e48d-4967-90df-164a9fb9906e"
   },
   "outputs": [
    {
     "name": "stdout",
     "output_type": "stream",
     "text": [
      "Inside phone constructor\n",
      "Buying a smartphone\n"
     ]
    }
   ],
   "source": [
    "# Method Overriding\n",
    "class Phone:\n",
    "    def __init__(self, price, brand, camera):\n",
    "        print (\"Inside phone constructor\")\n",
    "        self.__price = price\n",
    "        self.brand = brand\n",
    "        self.camera = camera\n",
    "\n",
    "    def buy(self):\n",
    "        print (\"Buying a phone\")\n",
    "\n",
    "class SmartPhone(Phone):\n",
    "    def buy(self):\n",
    "        print (\"Buying a smartphone\")\n",
    "\n",
    "s=SmartPhone(20000, \"Apple\", 13)\n",
    "\n",
    "s.buy()"
   ]
  },
  {
   "cell_type": "markdown",
   "metadata": {
    "id": "O85epdv770M-"
   },
   "source": [
    "**Super Keyword**"
   ]
  },
  {
   "cell_type": "code",
   "execution_count": 14,
   "metadata": {
    "colab": {
     "base_uri": "https://localhost:8080/"
    },
    "id": "NR4F_NIo71hS",
    "outputId": "31d11020-10c1-47cd-81e0-6335ee6fc1f0"
   },
   "outputs": [
    {
     "name": "stdout",
     "output_type": "stream",
     "text": [
      "Inside phone constructor\n",
      "Buying a smartphone\n",
      "Buying a phone\n"
     ]
    }
   ],
   "source": [
    "class Phone:\n",
    "    def __init__(self, price, brand, camera):\n",
    "        print (\"Inside phone constructor\")\n",
    "        self.__price = price\n",
    "        self.brand = brand\n",
    "        self.camera = camera\n",
    "\n",
    "    def buy(self):\n",
    "        print (\"Buying a phone\")\n",
    "\n",
    "class SmartPhone(Phone):\n",
    "    def buy(self):\n",
    "        print (\"Buying a smartphone\")\n",
    "        # syntax to call parent ka buy method\n",
    "        super().buy()\n",
    "\n",
    "s=SmartPhone(20000, \"Apple\", 13)\n",
    "\n",
    "s.buy()"
   ]
  },
  {
   "cell_type": "code",
   "execution_count": null,
   "metadata": {
    "colab": {
     "base_uri": "https://localhost:8080/",
     "height": 223
    },
    "id": "USJ2YcPLT68v",
    "outputId": "9039f621-2f56-4d1b-f4ed-8abc36ac4cd8"
   },
   "outputs": [
    {
     "name": "stdout",
     "output_type": "stream",
     "text": [
      "Inside phone constructor\n"
     ]
    },
    {
     "ename": "RuntimeError",
     "evalue": "ignored",
     "output_type": "error",
     "traceback": [
      "\u001b[0;31m---------------------------------------------------------------------------\u001b[0m",
      "\u001b[0;31mRuntimeError\u001b[0m                              Traceback (most recent call last)",
      "\u001b[0;32m<ipython-input-42-b20080504d0e>\u001b[0m in \u001b[0;36m<module>\u001b[0;34m\u001b[0m\n\u001b[1;32m     17\u001b[0m \u001b[0ms\u001b[0m\u001b[0;34m=\u001b[0m\u001b[0mSmartPhone\u001b[0m\u001b[0;34m(\u001b[0m\u001b[0;36m20000\u001b[0m\u001b[0;34m,\u001b[0m \u001b[0;34m\"Apple\"\u001b[0m\u001b[0;34m,\u001b[0m \u001b[0;36m13\u001b[0m\u001b[0;34m)\u001b[0m\u001b[0;34m\u001b[0m\u001b[0;34m\u001b[0m\u001b[0m\n\u001b[1;32m     18\u001b[0m \u001b[0;34m\u001b[0m\u001b[0m\n\u001b[0;32m---> 19\u001b[0;31m \u001b[0msuper\u001b[0m\u001b[0;34m(\u001b[0m\u001b[0;34m)\u001b[0m\u001b[0;34m.\u001b[0m\u001b[0mbuy\u001b[0m\u001b[0;34m(\u001b[0m\u001b[0;34m)\u001b[0m\u001b[0;34m\u001b[0m\u001b[0;34m\u001b[0m\u001b[0m\n\u001b[0m",
      "\u001b[0;31mRuntimeError\u001b[0m: super(): no arguments"
     ]
    }
   ],
   "source": [
    "# using super outside the class\n",
    "class Phone:\n",
    "    def __init__(self, price, brand, camera):\n",
    "        print (\"Inside phone constructor\")\n",
    "        self.__price = price\n",
    "        self.brand = brand\n",
    "        self.camera = camera\n",
    "\n",
    "    def buy(self):\n",
    "        print (\"Buying a phone\")\n",
    "\n",
    "class SmartPhone(Phone):\n",
    "    def buy(self):\n",
    "        print (\"Buying a smartphone\")\n",
    "        # syntax to call parent ka buy method\n",
    "        super().buy()\n",
    "\n",
    "s=SmartPhone(20000, \"Apple\", 13)\n",
    "\n",
    "s.buy()"
   ]
  },
  {
   "cell_type": "code",
   "execution_count": 15,
   "metadata": {
    "colab": {
     "base_uri": "https://localhost:8080/",
     "height": 366
    },
    "id": "KGIWVYdYUBAd",
    "outputId": "8e4228f8-af9c-4c72-d18c-6016808df3de"
   },
   "outputs": [
    {
     "name": "stdout",
     "output_type": "stream",
     "text": [
      "Inside phone constructor\n",
      "Buying a smartphone\n"
     ]
    },
    {
     "ename": "AttributeError",
     "evalue": "'super' object has no attribute 'brand'",
     "output_type": "error",
     "traceback": [
      "\u001b[1;31m---------------------------------------------------------------------------\u001b[0m",
      "\u001b[1;31mAttributeError\u001b[0m                            Traceback (most recent call last)",
      "Cell \u001b[1;32mIn[15], line 21\u001b[0m\n\u001b[0;32m     17\u001b[0m         \u001b[38;5;28mprint\u001b[39m(\u001b[38;5;28msuper\u001b[39m()\u001b[38;5;241m.\u001b[39mbrand)\n\u001b[0;32m     19\u001b[0m s\u001b[38;5;241m=\u001b[39mSmartPhone(\u001b[38;5;241m20000\u001b[39m, \u001b[38;5;124m\"\u001b[39m\u001b[38;5;124mApple\u001b[39m\u001b[38;5;124m\"\u001b[39m, \u001b[38;5;241m13\u001b[39m)\n\u001b[1;32m---> 21\u001b[0m s\u001b[38;5;241m.\u001b[39mbuy()\n",
      "Cell \u001b[1;32mIn[15], line 17\u001b[0m, in \u001b[0;36mSmartPhone.buy\u001b[1;34m(self)\u001b[0m\n\u001b[0;32m     15\u001b[0m \u001b[38;5;28mprint\u001b[39m (\u001b[38;5;124m\"\u001b[39m\u001b[38;5;124mBuying a smartphone\u001b[39m\u001b[38;5;124m\"\u001b[39m)\n\u001b[0;32m     16\u001b[0m \u001b[38;5;66;03m# syntax to call parent ka buy method\u001b[39;00m\n\u001b[1;32m---> 17\u001b[0m \u001b[38;5;28mprint\u001b[39m(\u001b[38;5;28msuper\u001b[39m()\u001b[38;5;241m.\u001b[39mbrand)\n",
      "\u001b[1;31mAttributeError\u001b[0m: 'super' object has no attribute 'brand'"
     ]
    }
   ],
   "source": [
    "# can super access parent ka data?\n",
    "# using super outside the class\n",
    "class Phone:\n",
    "    def __init__(self, price, brand, camera):\n",
    "        print (\"Inside phone constructor\")\n",
    "        self.__price = price\n",
    "        self.brand = brand\n",
    "        self.camera = camera\n",
    "\n",
    "    def buy(self):\n",
    "        print (\"Buying a phone\")\n",
    "\n",
    "class SmartPhone(Phone):\n",
    "    def buy(self):\n",
    "        print (\"Buying a smartphone\")\n",
    "        # syntax to call parent ka buy method\n",
    "        print(super().brand)\n",
    "\n",
    "s=SmartPhone(20000, \"Apple\", 13)\n",
    "\n",
    "s.buy()"
   ]
  },
  {
   "cell_type": "code",
   "execution_count": 16,
   "metadata": {
    "colab": {
     "base_uri": "https://localhost:8080/"
    },
    "id": "jPW3DV5GUKNJ",
    "outputId": "5e1dfad5-6f71-48dd-ceaa-7d5211136968"
   },
   "outputs": [
    {
     "name": "stdout",
     "output_type": "stream",
     "text": [
      "Inside smartphone constructor\n",
      "Inside phone constructor\n",
      "Inside smartphone constructor\n",
      "Android\n",
      "Samsung\n"
     ]
    }
   ],
   "source": [
    "# super -> constuctor\n",
    "class Phone:\n",
    "    def __init__(self, price, brand, camera):\n",
    "        print (\"Inside phone constructor\")\n",
    "        self.__price = price\n",
    "        self.brand = brand\n",
    "        self.camera = camera\n",
    "\n",
    "class SmartPhone(Phone):\n",
    "    def __init__(self, price, brand, camera, os, ram):\n",
    "        print('Inside smartphone constructor')\n",
    "        super().__init__(price, brand, camera)\n",
    "        self.os = os\n",
    "        self.ram = ram\n",
    "        print (\"Inside smartphone constructor\")\n",
    "\n",
    "s=SmartPhone(20000, \"Samsung\", 12, \"Android\", 2)\n",
    "\n",
    "print(s.os)\n",
    "print(s.brand)"
   ]
  },
  {
   "cell_type": "markdown",
   "metadata": {
    "id": "_YE_kj_0Ufe4"
   },
   "source": [
    "**Inheritance in summary**\n",
    "\n",
    "- A class can inherit from another class.\n",
    "\n",
    "- Inheritance improves code reuse\n",
    "\n",
    "- Constructor, attributes, methods get inherited to the child class\n",
    "\n",
    "- The parent has no access to the child class\n",
    "\n",
    "- Private properties of parent are not accessible directly in child class\n",
    "\n",
    "- Child class can override the attributes or methods. This is called method overriding\n",
    "\n",
    "- super() is an inbuilt function which is used to invoke the parent class methods and constructor"
   ]
  },
  {
   "cell_type": "code",
   "execution_count": 17,
   "metadata": {
    "colab": {
     "base_uri": "https://localhost:8080/"
    },
    "id": "iHFjwJtBUuK3",
    "outputId": "0fc43374-9b51-498d-d1ba-12defba202f3"
   },
   "outputs": [
    {
     "name": "stdout",
     "output_type": "stream",
     "text": [
      "100\n",
      "200\n"
     ]
    }
   ],
   "source": [
    "class Parent:\n",
    "\n",
    "    def __init__(self,num):\n",
    "      self.__num=num\n",
    "\n",
    "    def get_num(self):\n",
    "      return self.__num\n",
    "\n",
    "class Child(Parent):\n",
    "\n",
    "    def __init__(self,num,val):\n",
    "      super().__init__(num)\n",
    "      self.__val=val\n",
    "\n",
    "    def get_val(self):\n",
    "      return self.__val\n",
    "\n",
    "son=Child(100,200)\n",
    "print(son.get_num())\n",
    "print(son.get_val())"
   ]
  },
  {
   "cell_type": "code",
   "execution_count": 18,
   "metadata": {
    "colab": {
     "base_uri": "https://localhost:8080/"
    },
    "id": "szLznZ0bUvRj",
    "outputId": "0306224c-7467-420d-dbdb-d13e2c4e6a05"
   },
   "outputs": [
    {
     "name": "stdout",
     "output_type": "stream",
     "text": [
      "100\n",
      "200\n"
     ]
    }
   ],
   "source": [
    "class Parent:\n",
    "    def __init__(self):\n",
    "        self.num=100\n",
    "\n",
    "class Child(Parent):\n",
    "\n",
    "    def __init__(self):\n",
    "        super().__init__()\n",
    "        self.var=200\n",
    "\n",
    "    def show(self):\n",
    "        print(self.num)\n",
    "        print(self.var)\n",
    "\n",
    "son=Child()\n",
    "son.show()"
   ]
  },
  {
   "cell_type": "code",
   "execution_count": 19,
   "metadata": {
    "colab": {
     "base_uri": "https://localhost:8080/"
    },
    "id": "1v9P77SdU5z9",
    "outputId": "d81815d0-a87f-4335-d486-744e6c5e239d"
   },
   "outputs": [
    {
     "name": "stdout",
     "output_type": "stream",
     "text": [
      "Child: 10\n"
     ]
    }
   ],
   "source": [
    "class Parent:\n",
    "    def __init__(self):\n",
    "        self.__num=100\n",
    "\n",
    "    def show(self):\n",
    "        print(\"Parent:\",self.__num)\n",
    "\n",
    "class Child(Parent):\n",
    "    def __init__(self):\n",
    "        super().__init__()\n",
    "        self.__var=10\n",
    "\n",
    "    def show(self):\n",
    "        print(\"Child:\",self.__var)\n",
    "\n",
    "obj=Child()\n",
    "obj.show()"
   ]
  },
  {
   "cell_type": "code",
   "execution_count": 20,
   "metadata": {
    "colab": {
     "base_uri": "https://localhost:8080/"
    },
    "id": "nc1DNBfxU6fc",
    "outputId": "6d7a25b3-a25f-42c0-a9d7-60cc7de72412"
   },
   "outputs": [
    {
     "name": "stdout",
     "output_type": "stream",
     "text": [
      "Child: 10\n"
     ]
    }
   ],
   "source": [
    "class Parent:\n",
    "    def __init__(self):\n",
    "        self.__num=100\n",
    "\n",
    "    def show(self):\n",
    "        print(\"Parent:\",self.__num)\n",
    "\n",
    "class Child(Parent):\n",
    "    def __init__(self):\n",
    "        super().__init__()\n",
    "        self.__var=10\n",
    "\n",
    "    def show(self):\n",
    "        print(\"Child:\",self.__var)\n",
    "\n",
    "obj=Child()\n",
    "obj.show()"
   ]
  },
  {
   "cell_type": "markdown",
   "metadata": {
    "id": "q9WZMWV18G4Q"
   },
   "source": [
    "**Types of Inheritance**\n",
    "\n",
    "- Single Inheritance\n",
    "- Multilevel Inheritance\n",
    "- Hierarchical Inheritance\n",
    "- Multiple Inheritance(Diamond Problem)\n",
    "- Hybrid Inheritance"
   ]
  },
  {
   "cell_type": "code",
   "execution_count": 21,
   "metadata": {
    "colab": {
     "base_uri": "https://localhost:8080/"
    },
    "id": "OehIWuKS8JZm",
    "outputId": "69dde2a0-8b7e-49fd-f7a7-e86f4c2261e1"
   },
   "outputs": [
    {
     "name": "stdout",
     "output_type": "stream",
     "text": [
      "Inside phone constructor\n",
      "Buying a phone\n"
     ]
    }
   ],
   "source": [
    "# single inheritance\n",
    "class Phone:\n",
    "    def __init__(self, price, brand, camera):\n",
    "        print (\"Inside phone constructor\")\n",
    "        self.__price = price\n",
    "        self.brand = brand\n",
    "        self.camera = camera\n",
    "\n",
    "    def buy(self):\n",
    "        print (\"Buying a phone\")\n",
    "\n",
    "class SmartPhone(Phone):\n",
    "    pass\n",
    "\n",
    "SmartPhone(1000,\"Apple\",\"13px\").buy()"
   ]
  },
  {
   "cell_type": "code",
   "execution_count": 22,
   "metadata": {
    "colab": {
     "base_uri": "https://localhost:8080/"
    },
    "id": "jGcAw7QtV1vN",
    "outputId": "9800414e-1785-4f14-9a1d-514fb3f03b39"
   },
   "outputs": [
    {
     "name": "stdout",
     "output_type": "stream",
     "text": [
      "Inside phone constructor\n",
      "Buying a phone\n",
      "Product customer review\n"
     ]
    }
   ],
   "source": [
    "# multilevel\n",
    "class Product:\n",
    "    def review(self):\n",
    "        print (\"Product customer review\")\n",
    "\n",
    "class Phone(Product):\n",
    "    def __init__(self, price, brand, camera):\n",
    "        print (\"Inside phone constructor\")\n",
    "        self.__price = price\n",
    "        self.brand = brand\n",
    "        self.camera = camera\n",
    "\n",
    "    def buy(self):\n",
    "        print (\"Buying a phone\")\n",
    "\n",
    "class SmartPhone(Phone):\n",
    "    pass\n",
    "\n",
    "s=SmartPhone(20000, \"Apple\", 12)\n",
    "\n",
    "s.buy()\n",
    "s.review()"
   ]
  },
  {
   "cell_type": "code",
   "execution_count": 23,
   "metadata": {
    "colab": {
     "base_uri": "https://localhost:8080/"
    },
    "id": "axM6rE1HWA2d",
    "outputId": "0a5896e9-8301-4be2-8b2e-599354183b64"
   },
   "outputs": [
    {
     "name": "stdout",
     "output_type": "stream",
     "text": [
      "Inside phone constructor\n",
      "Buying a phone\n",
      "Inside phone constructor\n",
      "Buying a phone\n"
     ]
    }
   ],
   "source": [
    "# Hierarchical\n",
    "class Phone:\n",
    "    def __init__(self, price, brand, camera):\n",
    "        print (\"Inside phone constructor\")\n",
    "        self.__price = price\n",
    "        self.brand = brand\n",
    "        self.camera = camera\n",
    "\n",
    "    def buy(self):\n",
    "        print (\"Buying a phone\")\n",
    "\n",
    "class SmartPhone(Phone):\n",
    "    pass\n",
    "\n",
    "class FeaturePhone(Phone):\n",
    "    pass\n",
    "\n",
    "SmartPhone(1000,\"Apple\",\"13px\").buy()\n",
    "FeaturePhone(10,\"Lava\",\"1px\").buy()"
   ]
  },
  {
   "cell_type": "code",
   "execution_count": 24,
   "metadata": {
    "colab": {
     "base_uri": "https://localhost:8080/"
    },
    "id": "MPY34iq8WWGw",
    "outputId": "58b6e426-a8ba-4a9e-c997-a1a65a768de2"
   },
   "outputs": [
    {
     "name": "stdout",
     "output_type": "stream",
     "text": [
      "Inside phone constructor\n",
      "Buying a phone\n",
      "Customer review\n"
     ]
    }
   ],
   "source": [
    "# Multiple\n",
    "class Phone:\n",
    "    def __init__(self, price, brand, camera):\n",
    "        print (\"Inside phone constructor\")\n",
    "        self.__price = price\n",
    "        self.brand = brand\n",
    "        self.camera = camera\n",
    "\n",
    "    def buy(self):\n",
    "        print (\"Buying a phone\")\n",
    "\n",
    "class Product:\n",
    "    def review(self):\n",
    "        print (\"Customer review\")\n",
    "\n",
    "class SmartPhone(Phone, Product):\n",
    "    pass\n",
    "\n",
    "s=SmartPhone(20000, \"Apple\", 12)\n",
    "\n",
    "s.buy()\n",
    "s.review()\n"
   ]
  },
  {
   "cell_type": "code",
   "execution_count": 25,
   "metadata": {
    "colab": {
     "base_uri": "https://localhost:8080/"
    },
    "id": "I2ixigsSWagF",
    "outputId": "ecde3fef-f9a7-469e-b0c4-ff0ef60d3b3b"
   },
   "outputs": [
    {
     "name": "stdout",
     "output_type": "stream",
     "text": [
      "Inside phone constructor\n",
      "Buying a phone\n"
     ]
    }
   ],
   "source": [
    "# the diamond problem\n",
    "# https://stackoverflow.com/questions/56361048/what-is-the-diamond-problem-in-python-and-why-its-not-appear-in-python2\n",
    "class Phone:\n",
    "    def __init__(self, price, brand, camera):\n",
    "        print (\"Inside phone constructor\")\n",
    "        self.__price = price\n",
    "        self.brand = brand\n",
    "        self.camera = camera\n",
    "\n",
    "    def buy(self):\n",
    "        print (\"Buying a phone\")\n",
    "\n",
    "class Product:\n",
    "    def buy(self):\n",
    "        print (\"Product buy method\")\n",
    "\n",
    "# Method resolution order\n",
    "class SmartPhone(Phone,Product):\n",
    "    pass\n",
    "\n",
    "s=SmartPhone(20000, \"Apple\", 12)\n",
    "\n",
    "s.buy()"
   ]
  },
  {
   "cell_type": "code",
   "execution_count": 26,
   "metadata": {
    "colab": {
     "base_uri": "https://localhost:8080/"
    },
    "id": "sA_UVGoRWr7W",
    "outputId": "e71fe50b-c725-4c5f-a1d0-0dbc186fcfd0"
   },
   "outputs": [
    {
     "name": "stdout",
     "output_type": "stream",
     "text": [
      "70\n"
     ]
    }
   ],
   "source": [
    "class A:\n",
    "\n",
    "    def m1(self):\n",
    "        return 20\n",
    "\n",
    "class B(A):\n",
    "\n",
    "    def m1(self):\n",
    "        return 30\n",
    "\n",
    "    def m2(self):\n",
    "        return 40\n",
    "\n",
    "class C(B):\n",
    "\n",
    "    def m2(self):\n",
    "        return 20\n",
    "obj1=A()\n",
    "obj2=B()\n",
    "obj3=C()\n",
    "print(obj1.m1() + obj3.m1()+ obj3.m2())"
   ]
  },
  {
   "cell_type": "code",
   "execution_count": 27,
   "metadata": {
    "colab": {
     "base_uri": "https://localhost:8080/",
     "height": 390
    },
    "id": "ogbluGw-Wu3c",
    "outputId": "a08d2384-c4c3-4bd7-b7ac-896b22d98711"
   },
   "outputs": [
    {
     "ename": "RecursionError",
     "evalue": "maximum recursion depth exceeded",
     "output_type": "error",
     "traceback": [
      "\u001b[1;31m---------------------------------------------------------------------------\u001b[0m",
      "\u001b[1;31mRecursionError\u001b[0m                            Traceback (most recent call last)",
      "Cell \u001b[1;32mIn[27], line 18\u001b[0m\n\u001b[0;32m     16\u001b[0m         \u001b[38;5;28;01mreturn\u001b[39;00m val\n\u001b[0;32m     17\u001b[0m obj\u001b[38;5;241m=\u001b[39mC()\n\u001b[1;32m---> 18\u001b[0m \u001b[38;5;28mprint\u001b[39m(obj\u001b[38;5;241m.\u001b[39mm1())\n",
      "Cell \u001b[1;32mIn[27], line 15\u001b[0m, in \u001b[0;36mC.m1\u001b[1;34m(self)\u001b[0m\n\u001b[0;32m     14\u001b[0m \u001b[38;5;28;01mdef\u001b[39;00m \u001b[38;5;21mm1\u001b[39m(\u001b[38;5;28mself\u001b[39m):\n\u001b[1;32m---> 15\u001b[0m     val\u001b[38;5;241m=\u001b[39m\u001b[38;5;28mself\u001b[39m\u001b[38;5;241m.\u001b[39mm1()\u001b[38;5;241m+\u001b[39m\u001b[38;5;241m20\u001b[39m\n\u001b[0;32m     16\u001b[0m     \u001b[38;5;28;01mreturn\u001b[39;00m val\n",
      "Cell \u001b[1;32mIn[27], line 15\u001b[0m, in \u001b[0;36mC.m1\u001b[1;34m(self)\u001b[0m\n\u001b[0;32m     14\u001b[0m \u001b[38;5;28;01mdef\u001b[39;00m \u001b[38;5;21mm1\u001b[39m(\u001b[38;5;28mself\u001b[39m):\n\u001b[1;32m---> 15\u001b[0m     val\u001b[38;5;241m=\u001b[39m\u001b[38;5;28mself\u001b[39m\u001b[38;5;241m.\u001b[39mm1()\u001b[38;5;241m+\u001b[39m\u001b[38;5;241m20\u001b[39m\n\u001b[0;32m     16\u001b[0m     \u001b[38;5;28;01mreturn\u001b[39;00m val\n",
      "    \u001b[1;31m[... skipping similar frames: C.m1 at line 15 (2970 times)]\u001b[0m\n",
      "Cell \u001b[1;32mIn[27], line 15\u001b[0m, in \u001b[0;36mC.m1\u001b[1;34m(self)\u001b[0m\n\u001b[0;32m     14\u001b[0m \u001b[38;5;28;01mdef\u001b[39;00m \u001b[38;5;21mm1\u001b[39m(\u001b[38;5;28mself\u001b[39m):\n\u001b[1;32m---> 15\u001b[0m     val\u001b[38;5;241m=\u001b[39m\u001b[38;5;28mself\u001b[39m\u001b[38;5;241m.\u001b[39mm1()\u001b[38;5;241m+\u001b[39m\u001b[38;5;241m20\u001b[39m\n\u001b[0;32m     16\u001b[0m     \u001b[38;5;28;01mreturn\u001b[39;00m val\n",
      "\u001b[1;31mRecursionError\u001b[0m: maximum recursion depth exceeded"
     ]
    }
   ],
   "source": [
    "class A:\n",
    "\n",
    "    def m1(self):\n",
    "        return 20\n",
    "\n",
    "class B(A):\n",
    "\n",
    "    def m1(self):\n",
    "        val=super().m1()+30\n",
    "        return val\n",
    "\n",
    "class C(B):\n",
    "\n",
    "    def m1(self):\n",
    "        val=self.m1()+20\n",
    "        return val\n",
    "obj=C()\n",
    "print(obj.m1())"
   ]
  },
  {
   "cell_type": "markdown",
   "metadata": {
    "id": "TvZX-Zw9FtKB"
   },
   "source": [
    "**Polymorphism**\n",
    "\n",
    "- Method Overriding\n",
    "- Method Overloading\n",
    "- Operator Overloading"
   ]
  },
  {
   "cell_type": "code",
   "execution_count": 28,
   "metadata": {
    "colab": {
     "base_uri": "https://localhost:8080/"
    },
    "id": "wuVzSLONF0ha",
    "outputId": "c0ef3d86-9a4b-4d2f-f6b4-2ca8b7d42764"
   },
   "outputs": [
    {
     "name": "stdout",
     "output_type": "stream",
     "text": [
      "12.56\n",
      "12\n"
     ]
    }
   ],
   "source": [
    "class Shape:\n",
    "\n",
    "  def area(self,a,b=0):\n",
    "    if b == 0:\n",
    "      return 3.14*a*a\n",
    "    else:\n",
    "      return a*b\n",
    "\n",
    "s = Shape()\n",
    "\n",
    "print(s.area(2))\n",
    "print(s.area(3,4))"
   ]
  },
  {
   "cell_type": "code",
   "execution_count": 29,
   "metadata": {
    "colab": {
     "base_uri": "https://localhost:8080/",
     "height": 36
    },
    "id": "3-SJbwpMXE4J",
    "outputId": "1fb14d61-32b2-4267-e997-edbd98de1c22"
   },
   "outputs": [
    {
     "data": {
      "text/plain": [
       "'helloworld'"
      ]
     },
     "execution_count": 29,
     "metadata": {},
     "output_type": "execute_result"
    }
   ],
   "source": [
    "'hello' + 'world'"
   ]
  },
  {
   "cell_type": "code",
   "execution_count": 30,
   "metadata": {
    "colab": {
     "base_uri": "https://localhost:8080/"
    },
    "id": "XIhrt6ffXFOq",
    "outputId": "5936ff62-3649-470b-8080-27e0932d795c"
   },
   "outputs": [
    {
     "data": {
      "text/plain": [
       "9"
      ]
     },
     "execution_count": 30,
     "metadata": {},
     "output_type": "execute_result"
    }
   ],
   "source": [
    "4 + 5"
   ]
  },
  {
   "cell_type": "code",
   "execution_count": 31,
   "metadata": {
    "colab": {
     "base_uri": "https://localhost:8080/"
    },
    "id": "ykLFszsHfrKi",
    "outputId": "b6dce7af-c9d9-4414-bd3e-dbdacc9df9e1"
   },
   "outputs": [
    {
     "data": {
      "text/plain": [
       "[1, 2, 3, 4, 5]"
      ]
     },
     "execution_count": 31,
     "metadata": {},
     "output_type": "execute_result"
    }
   ],
   "source": [
    "[1,2,3] + [4,5]"
   ]
  },
  {
   "cell_type": "markdown",
   "metadata": {
    "id": "FHZlflrSF1Df"
   },
   "source": [
    "**Abstraction**"
   ]
  },
  {
   "cell_type": "code",
   "execution_count": 32,
   "metadata": {
    "id": "EFrfU_45F2wx"
   },
   "outputs": [],
   "source": [
    "from abc import ABC,abstractmethod\n",
    "class BankApp(ABC):\n",
    "\n",
    "  def database(self):\n",
    "    print('connected to database')\n",
    "\n",
    "  @abstractmethod\n",
    "  def security(self):\n",
    "    pass\n",
    "\n",
    "  @abstractmethod\n",
    "  def display(self):\n",
    "    pass\n"
   ]
  },
  {
   "cell_type": "code",
   "execution_count": 33,
   "metadata": {
    "id": "_KULGDqYxtwk"
   },
   "outputs": [],
   "source": [
    "class MobileApp(BankApp):\n",
    "\n",
    "  def mobile_login(self):\n",
    "    print('login into mobile')\n",
    "\n",
    "  def security(self):\n",
    "    print('mobile security')\n",
    "\n",
    "  def display(self):\n",
    "    print('display')"
   ]
  },
  {
   "cell_type": "code",
   "execution_count": 34,
   "metadata": {
    "id": "WlGxjLHz6J94"
   },
   "outputs": [],
   "source": [
    "mob = MobileApp()"
   ]
  },
  {
   "cell_type": "code",
   "execution_count": 35,
   "metadata": {
    "colab": {
     "base_uri": "https://localhost:8080/"
    },
    "id": "e-ygxfhV6MR9",
    "outputId": "93969604-41c2-4966-d322-ffaadcd85e4f"
   },
   "outputs": [
    {
     "name": "stdout",
     "output_type": "stream",
     "text": [
      "mobile security\n"
     ]
    }
   ],
   "source": [
    "mob.security()"
   ]
  },
  {
   "cell_type": "code",
   "execution_count": 36,
   "metadata": {
    "colab": {
     "base_uri": "https://localhost:8080/",
     "height": 169
    },
    "id": "hvVMYalv6v3j",
    "outputId": "2809badf-e568-4a87-ddfb-1f64d944900d"
   },
   "outputs": [
    {
     "ename": "TypeError",
     "evalue": "Can't instantiate abstract class BankApp with abstract methods display, security",
     "output_type": "error",
     "traceback": [
      "\u001b[1;31m---------------------------------------------------------------------------\u001b[0m",
      "\u001b[1;31mTypeError\u001b[0m                                 Traceback (most recent call last)",
      "Cell \u001b[1;32mIn[36], line 1\u001b[0m\n\u001b[1;32m----> 1\u001b[0m obj \u001b[38;5;241m=\u001b[39m BankApp()\n",
      "\u001b[1;31mTypeError\u001b[0m: Can't instantiate abstract class BankApp with abstract methods display, security"
     ]
    }
   ],
   "source": [
    "obj = BankApp()"
   ]
  }
 ],
 "metadata": {
  "colab": {
   "provenance": []
  },
  "kernelspec": {
   "display_name": "Python 3 (ipykernel)",
   "language": "python",
   "name": "python3"
  },
  "language_info": {
   "codemirror_mode": {
    "name": "ipython",
    "version": 3
   },
   "file_extension": ".py",
   "mimetype": "text/x-python",
   "name": "python",
   "nbconvert_exporter": "python",
   "pygments_lexer": "ipython3",
   "version": "3.11.7"
  }
 },
 "nbformat": 4,
 "nbformat_minor": 4
}
